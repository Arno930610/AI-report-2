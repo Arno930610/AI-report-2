{
  "nbformat": 4,
  "nbformat_minor": 0,
  "metadata": {
    "colab": {
      "provenance": [],
      "gpuType": "T4",
      "mount_file_id": "1Uwk5pIz1w8HD7CIO8-M_FQzEDhzR7aqW",
      "authorship_tag": "ABX9TyP2MTsMLH3dnKbzpKjV9LZV",
      "include_colab_link": true
    },
    "kernelspec": {
      "name": "python3",
      "display_name": "Python 3"
    },
    "language_info": {
      "name": "python"
    },
    "accelerator": "GPU",
    "widgets": {
      "application/vnd.jupyter.widget-state+json": {
        "623e8a120dfe40f2b1d697e36f2c61d2": {
          "model_module": "@jupyter-widgets/controls",
          "model_name": "GridBoxModel",
          "model_module_version": "1.5.0",
          "state": {
            "_dom_classes": [],
            "_model_module": "@jupyter-widgets/controls",
            "_model_module_version": "1.5.0",
            "_model_name": "GridBoxModel",
            "_view_count": null,
            "_view_module": "@jupyter-widgets/controls",
            "_view_module_version": "1.5.0",
            "_view_name": "GridBoxView",
            "box_style": "",
            "children": [
              "IPY_MODEL_d0a083fa52594d329e8e7621a1cb52fb",
              "IPY_MODEL_562ad0f09d184b728a5d7ac3231e2189",
              "IPY_MODEL_a8436d641aa84ca5835ee60f918c0256",
              "IPY_MODEL_b4482e80154541a69eeecaf8927f3140"
            ],
            "layout": "IPY_MODEL_3bb24231c4844d8ba92f6868c061bea1"
          }
        },
        "d0a083fa52594d329e8e7621a1cb52fb": {
          "model_module": "@jupyter-widgets/output",
          "model_name": "OutputModel",
          "model_module_version": "1.0.0",
          "state": {
            "_dom_classes": [],
            "_model_module": "@jupyter-widgets/output",
            "_model_module_version": "1.0.0",
            "_model_name": "OutputModel",
            "_view_count": null,
            "_view_module": "@jupyter-widgets/output",
            "_view_module_version": "1.0.0",
            "_view_name": "OutputView",
            "layout": "IPY_MODEL_b5b24857220d40f0beb50c7f7c2bfb6c",
            "msg_id": "",
            "outputs": [
              {
                "output_type": "stream",
                "name": "stdout",
                "text": [
                  "Update 0\n"
                ]
              },
              {
                "output_type": "stream",
                "name": "stdout",
                "text": [
                  "Update 2\n"
                ]
              },
              {
                "output_type": "stream",
                "name": "stdout",
                "text": [
                  "Update 5\n"
                ]
              },
              {
                "output_type": "stream",
                "name": "stdout",
                "text": [
                  "Update 6\n"
                ]
              },
              {
                "output_type": "stream",
                "name": "stdout",
                "text": [
                  "Update 10\n"
                ]
              },
              {
                "output_type": "stream",
                "name": "stdout",
                "text": [
                  "Update 13\n"
                ]
              },
              {
                "output_type": "stream",
                "name": "stdout",
                "text": [
                  "Update 15\n"
                ]
              }
            ]
          }
        },
        "562ad0f09d184b728a5d7ac3231e2189": {
          "model_module": "@jupyter-widgets/output",
          "model_name": "OutputModel",
          "model_module_version": "1.0.0",
          "state": {
            "_dom_classes": [],
            "_model_module": "@jupyter-widgets/output",
            "_model_module_version": "1.0.0",
            "_model_name": "OutputModel",
            "_view_count": null,
            "_view_module": "@jupyter-widgets/output",
            "_view_module_version": "1.0.0",
            "_view_name": "OutputView",
            "layout": "IPY_MODEL_ca4800cdc370456fbd89b76e08d991b4",
            "msg_id": "",
            "outputs": [
              {
                "output_type": "stream",
                "name": "stdout",
                "text": [
                  "Update 1\n"
                ]
              },
              {
                "output_type": "stream",
                "name": "stdout",
                "text": [
                  "Update 4\n"
                ]
              },
              {
                "output_type": "stream",
                "name": "stdout",
                "text": [
                  "Update 9\n"
                ]
              },
              {
                "output_type": "stream",
                "name": "stdout",
                "text": [
                  "Update 14\n"
                ]
              }
            ]
          }
        },
        "a8436d641aa84ca5835ee60f918c0256": {
          "model_module": "@jupyter-widgets/output",
          "model_name": "OutputModel",
          "model_module_version": "1.0.0",
          "state": {
            "_dom_classes": [],
            "_model_module": "@jupyter-widgets/output",
            "_model_module_version": "1.0.0",
            "_model_name": "OutputModel",
            "_view_count": null,
            "_view_module": "@jupyter-widgets/output",
            "_view_module_version": "1.0.0",
            "_view_name": "OutputView",
            "layout": "IPY_MODEL_ef0f543b4d144b43958add8ac5b4f5c6",
            "msg_id": "",
            "outputs": [
              {
                "output_type": "stream",
                "name": "stdout",
                "text": [
                  "Update 3\n"
                ]
              },
              {
                "output_type": "stream",
                "name": "stdout",
                "text": [
                  "Update 11\n"
                ]
              },
              {
                "output_type": "stream",
                "name": "stdout",
                "text": [
                  "Update 17\n"
                ]
              }
            ]
          }
        },
        "b4482e80154541a69eeecaf8927f3140": {
          "model_module": "@jupyter-widgets/output",
          "model_name": "OutputModel",
          "model_module_version": "1.0.0",
          "state": {
            "_dom_classes": [],
            "_model_module": "@jupyter-widgets/output",
            "_model_module_version": "1.0.0",
            "_model_name": "OutputModel",
            "_view_count": null,
            "_view_module": "@jupyter-widgets/output",
            "_view_module_version": "1.0.0",
            "_view_name": "OutputView",
            "layout": "IPY_MODEL_bf6ef4cfbf3048a99785aa6abce6bdd1",
            "msg_id": "",
            "outputs": [
              {
                "output_type": "stream",
                "name": "stdout",
                "text": [
                  "Update 7\n"
                ]
              },
              {
                "output_type": "stream",
                "name": "stdout",
                "text": [
                  "Update 8\n"
                ]
              },
              {
                "output_type": "stream",
                "name": "stdout",
                "text": [
                  "Update 12\n"
                ]
              },
              {
                "output_type": "stream",
                "name": "stdout",
                "text": [
                  "Update 16\n"
                ]
              },
              {
                "output_type": "stream",
                "name": "stdout",
                "text": [
                  "Update 18\n"
                ]
              },
              {
                "output_type": "stream",
                "name": "stdout",
                "text": [
                  "Update 19\n"
                ]
              }
            ]
          }
        },
        "3bb24231c4844d8ba92f6868c061bea1": {
          "model_module": "@jupyter-widgets/base",
          "model_name": "LayoutModel",
          "model_module_version": "1.2.0",
          "state": {
            "_model_module": "@jupyter-widgets/base",
            "_model_module_version": "1.2.0",
            "_model_name": "LayoutModel",
            "_view_count": null,
            "_view_module": "@jupyter-widgets/base",
            "_view_module_version": "1.2.0",
            "_view_name": "LayoutView",
            "align_content": null,
            "align_items": null,
            "align_self": null,
            "border": null,
            "bottom": null,
            "display": null,
            "flex": null,
            "flex_flow": null,
            "grid_area": null,
            "grid_auto_columns": null,
            "grid_auto_flow": null,
            "grid_auto_rows": null,
            "grid_column": null,
            "grid_gap": null,
            "grid_row": null,
            "grid_template_areas": "\"widget001 widget002\"\n\"widget003 widget004\"",
            "grid_template_columns": "repeat(2, 1fr)",
            "grid_template_rows": "repeat(2, 1fr)",
            "height": null,
            "justify_content": null,
            "justify_items": null,
            "left": null,
            "margin": null,
            "max_height": null,
            "max_width": null,
            "min_height": null,
            "min_width": null,
            "object_fit": null,
            "object_position": null,
            "order": null,
            "overflow": null,
            "overflow_x": null,
            "overflow_y": null,
            "padding": null,
            "right": null,
            "top": null,
            "visibility": null,
            "width": null
          }
        },
        "b5b24857220d40f0beb50c7f7c2bfb6c": {
          "model_module": "@jupyter-widgets/base",
          "model_name": "LayoutModel",
          "model_module_version": "1.2.0",
          "state": {
            "_model_module": "@jupyter-widgets/base",
            "_model_module_version": "1.2.0",
            "_model_name": "LayoutModel",
            "_view_count": null,
            "_view_module": "@jupyter-widgets/base",
            "_view_module_version": "1.2.0",
            "_view_name": "LayoutView",
            "align_content": null,
            "align_items": null,
            "align_self": null,
            "border": null,
            "bottom": null,
            "display": null,
            "flex": null,
            "flex_flow": null,
            "grid_area": "widget001",
            "grid_auto_columns": null,
            "grid_auto_flow": null,
            "grid_auto_rows": null,
            "grid_column": null,
            "grid_gap": null,
            "grid_row": null,
            "grid_template_areas": null,
            "grid_template_columns": null,
            "grid_template_rows": null,
            "height": null,
            "justify_content": null,
            "justify_items": null,
            "left": null,
            "margin": null,
            "max_height": null,
            "max_width": null,
            "min_height": null,
            "min_width": null,
            "object_fit": null,
            "object_position": null,
            "order": null,
            "overflow": null,
            "overflow_x": null,
            "overflow_y": null,
            "padding": null,
            "right": null,
            "top": null,
            "visibility": null,
            "width": null
          }
        },
        "ca4800cdc370456fbd89b76e08d991b4": {
          "model_module": "@jupyter-widgets/base",
          "model_name": "LayoutModel",
          "model_module_version": "1.2.0",
          "state": {
            "_model_module": "@jupyter-widgets/base",
            "_model_module_version": "1.2.0",
            "_model_name": "LayoutModel",
            "_view_count": null,
            "_view_module": "@jupyter-widgets/base",
            "_view_module_version": "1.2.0",
            "_view_name": "LayoutView",
            "align_content": null,
            "align_items": null,
            "align_self": null,
            "border": null,
            "bottom": null,
            "display": null,
            "flex": null,
            "flex_flow": null,
            "grid_area": "widget002",
            "grid_auto_columns": null,
            "grid_auto_flow": null,
            "grid_auto_rows": null,
            "grid_column": null,
            "grid_gap": null,
            "grid_row": null,
            "grid_template_areas": null,
            "grid_template_columns": null,
            "grid_template_rows": null,
            "height": null,
            "justify_content": null,
            "justify_items": null,
            "left": null,
            "margin": null,
            "max_height": null,
            "max_width": null,
            "min_height": null,
            "min_width": null,
            "object_fit": null,
            "object_position": null,
            "order": null,
            "overflow": null,
            "overflow_x": null,
            "overflow_y": null,
            "padding": null,
            "right": null,
            "top": null,
            "visibility": null,
            "width": null
          }
        },
        "ef0f543b4d144b43958add8ac5b4f5c6": {
          "model_module": "@jupyter-widgets/base",
          "model_name": "LayoutModel",
          "model_module_version": "1.2.0",
          "state": {
            "_model_module": "@jupyter-widgets/base",
            "_model_module_version": "1.2.0",
            "_model_name": "LayoutModel",
            "_view_count": null,
            "_view_module": "@jupyter-widgets/base",
            "_view_module_version": "1.2.0",
            "_view_name": "LayoutView",
            "align_content": null,
            "align_items": null,
            "align_self": null,
            "border": null,
            "bottom": null,
            "display": null,
            "flex": null,
            "flex_flow": null,
            "grid_area": "widget003",
            "grid_auto_columns": null,
            "grid_auto_flow": null,
            "grid_auto_rows": null,
            "grid_column": null,
            "grid_gap": null,
            "grid_row": null,
            "grid_template_areas": null,
            "grid_template_columns": null,
            "grid_template_rows": null,
            "height": null,
            "justify_content": null,
            "justify_items": null,
            "left": null,
            "margin": null,
            "max_height": null,
            "max_width": null,
            "min_height": null,
            "min_width": null,
            "object_fit": null,
            "object_position": null,
            "order": null,
            "overflow": null,
            "overflow_x": null,
            "overflow_y": null,
            "padding": null,
            "right": null,
            "top": null,
            "visibility": null,
            "width": null
          }
        },
        "bf6ef4cfbf3048a99785aa6abce6bdd1": {
          "model_module": "@jupyter-widgets/base",
          "model_name": "LayoutModel",
          "model_module_version": "1.2.0",
          "state": {
            "_model_module": "@jupyter-widgets/base",
            "_model_module_version": "1.2.0",
            "_model_name": "LayoutModel",
            "_view_count": null,
            "_view_module": "@jupyter-widgets/base",
            "_view_module_version": "1.2.0",
            "_view_name": "LayoutView",
            "align_content": null,
            "align_items": null,
            "align_self": null,
            "border": null,
            "bottom": null,
            "display": null,
            "flex": null,
            "flex_flow": null,
            "grid_area": "widget004",
            "grid_auto_columns": null,
            "grid_auto_flow": null,
            "grid_auto_rows": null,
            "grid_column": null,
            "grid_gap": null,
            "grid_row": null,
            "grid_template_areas": null,
            "grid_template_columns": null,
            "grid_template_rows": null,
            "height": null,
            "justify_content": null,
            "justify_items": null,
            "left": null,
            "margin": null,
            "max_height": null,
            "max_width": null,
            "min_height": null,
            "min_width": null,
            "object_fit": null,
            "object_position": null,
            "order": null,
            "overflow": null,
            "overflow_x": null,
            "overflow_y": null,
            "padding": null,
            "right": null,
            "top": null,
            "visibility": null,
            "width": null
          }
        }
      }
    }
  },
  "cells": [
    {
      "cell_type": "markdown",
      "metadata": {
        "id": "view-in-github",
        "colab_type": "text"
      },
      "source": [
        "<a href=\"https://colab.research.google.com/github/james10292210/-/blob/main/Untitled0.ipynb\" target=\"_parent\"><img src=\"https://colab.research.google.com/assets/colab-badge.svg\" alt=\"Open In Colab\"/></a>"
      ]
    },
    {
      "cell_type": "code",
      "execution_count": 1,
      "metadata": {
        "colab": {
          "base_uri": "https://localhost:8080/",
          "height": 1000
        },
        "id": "OaKimwOTudpg",
        "outputId": "2b6c8bf8-6074-4705-d84f-d614e47a4d90"
      },
      "outputs": [
        {
          "output_type": "stream",
          "name": "stdout",
          "text": [
            "E: Package 'libfluidsynth1' has no installation candidate\n",
            "Name: tensorflow\n",
            "Version: 2.17.1\n",
            "Summary: TensorFlow is an open source machine learning framework for everyone.\n",
            "Home-page: https://www.tensorflow.org/\n",
            "Author: Google Inc.\n",
            "Author-email: packages@tensorflow.org\n",
            "License: Apache 2.0\n",
            "Location: /usr/local/lib/python3.10/dist-packages\n",
            "Requires: absl-py, astunparse, flatbuffers, gast, google-pasta, grpcio, h5py, keras, libclang, ml-dtypes, numpy, opt-einsum, packaging, protobuf, requests, setuptools, six, tensorboard, tensorflow-io-gcs-filesystem, termcolor, typing-extensions, wrapt\n",
            "Required-by: dopamine_rl, tf_keras\n",
            "Requirement already satisfied: tensorflow in /usr/local/lib/python3.10/dist-packages (2.17.1)\n",
            "Collecting tensorflow\n",
            "  Downloading tensorflow-2.18.0-cp310-cp310-manylinux_2_17_x86_64.manylinux2014_x86_64.whl.metadata (4.1 kB)\n",
            "Requirement already satisfied: absl-py>=1.0.0 in /usr/local/lib/python3.10/dist-packages (from tensorflow) (1.4.0)\n",
            "Requirement already satisfied: astunparse>=1.6.0 in /usr/local/lib/python3.10/dist-packages (from tensorflow) (1.6.3)\n",
            "Requirement already satisfied: flatbuffers>=24.3.25 in /usr/local/lib/python3.10/dist-packages (from tensorflow) (24.3.25)\n",
            "Requirement already satisfied: gast!=0.5.0,!=0.5.1,!=0.5.2,>=0.2.1 in /usr/local/lib/python3.10/dist-packages (from tensorflow) (0.6.0)\n",
            "Requirement already satisfied: google-pasta>=0.1.1 in /usr/local/lib/python3.10/dist-packages (from tensorflow) (0.2.0)\n",
            "Requirement already satisfied: libclang>=13.0.0 in /usr/local/lib/python3.10/dist-packages (from tensorflow) (18.1.1)\n",
            "Requirement already satisfied: opt-einsum>=2.3.2 in /usr/local/lib/python3.10/dist-packages (from tensorflow) (3.4.0)\n",
            "Requirement already satisfied: packaging in /usr/local/lib/python3.10/dist-packages (from tensorflow) (24.2)\n",
            "Requirement already satisfied: protobuf!=4.21.0,!=4.21.1,!=4.21.2,!=4.21.3,!=4.21.4,!=4.21.5,<6.0.0dev,>=3.20.3 in /usr/local/lib/python3.10/dist-packages (from tensorflow) (4.25.5)\n",
            "Requirement already satisfied: requests<3,>=2.21.0 in /usr/local/lib/python3.10/dist-packages (from tensorflow) (2.32.3)\n",
            "Requirement already satisfied: setuptools in /usr/local/lib/python3.10/dist-packages (from tensorflow) (75.1.0)\n",
            "Requirement already satisfied: six>=1.12.0 in /usr/local/lib/python3.10/dist-packages (from tensorflow) (1.17.0)\n",
            "Requirement already satisfied: termcolor>=1.1.0 in /usr/local/lib/python3.10/dist-packages (from tensorflow) (2.5.0)\n",
            "Requirement already satisfied: typing-extensions>=3.6.6 in /usr/local/lib/python3.10/dist-packages (from tensorflow) (4.12.2)\n",
            "Requirement already satisfied: wrapt>=1.11.0 in /usr/local/lib/python3.10/dist-packages (from tensorflow) (1.17.0)\n",
            "Requirement already satisfied: grpcio<2.0,>=1.24.3 in /usr/local/lib/python3.10/dist-packages (from tensorflow) (1.68.1)\n",
            "Collecting tensorboard<2.19,>=2.18 (from tensorflow)\n",
            "  Downloading tensorboard-2.18.0-py3-none-any.whl.metadata (1.6 kB)\n",
            "Requirement already satisfied: keras>=3.5.0 in /usr/local/lib/python3.10/dist-packages (from tensorflow) (3.5.0)\n",
            "Requirement already satisfied: numpy<2.1.0,>=1.26.0 in /usr/local/lib/python3.10/dist-packages (from tensorflow) (1.26.4)\n",
            "Requirement already satisfied: h5py>=3.11.0 in /usr/local/lib/python3.10/dist-packages (from tensorflow) (3.12.1)\n",
            "Requirement already satisfied: ml-dtypes<0.5.0,>=0.4.0 in /usr/local/lib/python3.10/dist-packages (from tensorflow) (0.4.1)\n",
            "Requirement already satisfied: tensorflow-io-gcs-filesystem>=0.23.1 in /usr/local/lib/python3.10/dist-packages (from tensorflow) (0.37.1)\n",
            "Requirement already satisfied: wheel<1.0,>=0.23.0 in /usr/local/lib/python3.10/dist-packages (from astunparse>=1.6.0->tensorflow) (0.45.1)\n",
            "Requirement already satisfied: rich in /usr/local/lib/python3.10/dist-packages (from keras>=3.5.0->tensorflow) (13.9.4)\n",
            "Requirement already satisfied: namex in /usr/local/lib/python3.10/dist-packages (from keras>=3.5.0->tensorflow) (0.0.8)\n",
            "Requirement already satisfied: optree in /usr/local/lib/python3.10/dist-packages (from keras>=3.5.0->tensorflow) (0.13.1)\n",
            "Requirement already satisfied: charset-normalizer<4,>=2 in /usr/local/lib/python3.10/dist-packages (from requests<3,>=2.21.0->tensorflow) (3.4.0)\n",
            "Requirement already satisfied: idna<4,>=2.5 in /usr/local/lib/python3.10/dist-packages (from requests<3,>=2.21.0->tensorflow) (3.10)\n",
            "Requirement already satisfied: urllib3<3,>=1.21.1 in /usr/local/lib/python3.10/dist-packages (from requests<3,>=2.21.0->tensorflow) (2.2.3)\n",
            "Requirement already satisfied: certifi>=2017.4.17 in /usr/local/lib/python3.10/dist-packages (from requests<3,>=2.21.0->tensorflow) (2024.12.14)\n",
            "Requirement already satisfied: markdown>=2.6.8 in /usr/local/lib/python3.10/dist-packages (from tensorboard<2.19,>=2.18->tensorflow) (3.7)\n",
            "Requirement already satisfied: tensorboard-data-server<0.8.0,>=0.7.0 in /usr/local/lib/python3.10/dist-packages (from tensorboard<2.19,>=2.18->tensorflow) (0.7.2)\n",
            "Requirement already satisfied: werkzeug>=1.0.1 in /usr/local/lib/python3.10/dist-packages (from tensorboard<2.19,>=2.18->tensorflow) (3.1.3)\n",
            "Requirement already satisfied: MarkupSafe>=2.1.1 in /usr/local/lib/python3.10/dist-packages (from werkzeug>=1.0.1->tensorboard<2.19,>=2.18->tensorflow) (3.0.2)\n",
            "Requirement already satisfied: markdown-it-py>=2.2.0 in /usr/local/lib/python3.10/dist-packages (from rich->keras>=3.5.0->tensorflow) (3.0.0)\n",
            "Requirement already satisfied: pygments<3.0.0,>=2.13.0 in /usr/local/lib/python3.10/dist-packages (from rich->keras>=3.5.0->tensorflow) (2.18.0)\n",
            "Requirement already satisfied: mdurl~=0.1 in /usr/local/lib/python3.10/dist-packages (from markdown-it-py>=2.2.0->rich->keras>=3.5.0->tensorflow) (0.1.2)\n",
            "Downloading tensorflow-2.18.0-cp310-cp310-manylinux_2_17_x86_64.manylinux2014_x86_64.whl (615.3 MB)\n",
            "\u001b[2K   \u001b[90m━━━━━━━━━━━━━━━━━━━━━━━━━━━━━━━━━━━━━━━━\u001b[0m \u001b[32m615.3/615.3 MB\u001b[0m \u001b[31m871.4 kB/s\u001b[0m eta \u001b[36m0:00:00\u001b[0m\n",
            "\u001b[?25hDownloading tensorboard-2.18.0-py3-none-any.whl (5.5 MB)\n",
            "\u001b[2K   \u001b[90m━━━━━━━━━━━━━━━━━━━━━━━━━━━━━━━━━━━━━━━━\u001b[0m \u001b[32m5.5/5.5 MB\u001b[0m \u001b[31m47.8 MB/s\u001b[0m eta \u001b[36m0:00:00\u001b[0m\n",
            "\u001b[?25hInstalling collected packages: tensorboard, tensorflow\n",
            "  Attempting uninstall: tensorboard\n",
            "    Found existing installation: tensorboard 2.17.1\n",
            "    Uninstalling tensorboard-2.17.1:\n",
            "      Successfully uninstalled tensorboard-2.17.1\n",
            "  Attempting uninstall: tensorflow\n",
            "    Found existing installation: tensorflow 2.17.1\n",
            "    Uninstalling tensorflow-2.17.1:\n",
            "      Successfully uninstalled tensorflow-2.17.1\n",
            "\u001b[31mERROR: pip's dependency resolver does not currently take into account all the packages that are installed. This behaviour is the source of the following dependency conflicts.\n",
            "tf-keras 2.17.0 requires tensorflow<2.18,>=2.17, but you have tensorflow 2.18.0 which is incompatible.\u001b[0m\u001b[31m\n",
            "\u001b[0mSuccessfully installed tensorboard-2.18.0 tensorflow-2.18.0\n",
            "\u001b[31mERROR: Could not find a version that satisfies the requirement tensorflow==1.2 (from versions: 2.8.0rc0, 2.8.0rc1, 2.8.0, 2.8.1, 2.8.2, 2.8.3, 2.8.4, 2.9.0rc0, 2.9.0rc1, 2.9.0rc2, 2.9.0, 2.9.1, 2.9.2, 2.9.3, 2.10.0rc0, 2.10.0rc1, 2.10.0rc2, 2.10.0rc3, 2.10.0, 2.10.1, 2.11.0rc0, 2.11.0rc1, 2.11.0rc2, 2.11.0, 2.11.1, 2.12.0rc0, 2.12.0rc1, 2.12.0, 2.12.1, 2.13.0rc0, 2.13.0rc1, 2.13.0rc2, 2.13.0, 2.13.1, 2.14.0rc0, 2.14.0rc1, 2.14.0, 2.14.1, 2.15.0rc0, 2.15.0rc1, 2.15.0, 2.15.0.post1, 2.15.1, 2.16.0rc0, 2.16.1, 2.16.2, 2.17.0rc0, 2.17.0rc1, 2.17.0, 2.17.1, 2.18.0rc0, 2.18.0rc1, 2.18.0rc2, 2.18.0)\u001b[0m\u001b[31m\n",
            "\u001b[0m\u001b[31mERROR: No matching distribution found for tensorflow==1.2\u001b[0m\u001b[31m\n",
            "\u001b[0mCollecting tf-nightly\n",
            "  Downloading tf_nightly-2.19.0.dev20241219-cp310-cp310-manylinux_2_17_x86_64.manylinux2014_x86_64.whl.metadata (4.1 kB)\n",
            "Requirement already satisfied: absl-py>=1.0.0 in /usr/local/lib/python3.10/dist-packages (from tf-nightly) (1.4.0)\n",
            "Requirement already satisfied: astunparse>=1.6.0 in /usr/local/lib/python3.10/dist-packages (from tf-nightly) (1.6.3)\n",
            "Requirement already satisfied: flatbuffers>=24.3.25 in /usr/local/lib/python3.10/dist-packages (from tf-nightly) (24.3.25)\n",
            "Requirement already satisfied: gast!=0.5.0,!=0.5.1,!=0.5.2,>=0.2.1 in /usr/local/lib/python3.10/dist-packages (from tf-nightly) (0.6.0)\n",
            "Requirement already satisfied: google-pasta>=0.1.1 in /usr/local/lib/python3.10/dist-packages (from tf-nightly) (0.2.0)\n",
            "Requirement already satisfied: libclang>=13.0.0 in /usr/local/lib/python3.10/dist-packages (from tf-nightly) (18.1.1)\n",
            "Requirement already satisfied: opt-einsum>=2.3.2 in /usr/local/lib/python3.10/dist-packages (from tf-nightly) (3.4.0)\n",
            "Requirement already satisfied: packaging in /usr/local/lib/python3.10/dist-packages (from tf-nightly) (24.2)\n",
            "Requirement already satisfied: protobuf!=4.21.0,!=4.21.1,!=4.21.2,!=4.21.3,!=4.21.4,!=4.21.5,<6.0.0dev,>=3.20.3 in /usr/local/lib/python3.10/dist-packages (from tf-nightly) (4.25.5)\n",
            "Requirement already satisfied: requests<3,>=2.21.0 in /usr/local/lib/python3.10/dist-packages (from tf-nightly) (2.32.3)\n",
            "Requirement already satisfied: setuptools in /usr/local/lib/python3.10/dist-packages (from tf-nightly) (75.1.0)\n",
            "Requirement already satisfied: six>=1.12.0 in /usr/local/lib/python3.10/dist-packages (from tf-nightly) (1.17.0)\n",
            "Requirement already satisfied: termcolor>=1.1.0 in /usr/local/lib/python3.10/dist-packages (from tf-nightly) (2.5.0)\n",
            "Requirement already satisfied: typing-extensions>=3.6.6 in /usr/local/lib/python3.10/dist-packages (from tf-nightly) (4.12.2)\n",
            "Requirement already satisfied: wrapt>=1.11.0 in /usr/local/lib/python3.10/dist-packages (from tf-nightly) (1.17.0)\n",
            "Requirement already satisfied: grpcio<2.0,>=1.24.3 in /usr/local/lib/python3.10/dist-packages (from tf-nightly) (1.68.1)\n",
            "Collecting tb-nightly~=2.19.0.a (from tf-nightly)\n",
            "  Downloading tb_nightly-2.19.0a20241223-py3-none-any.whl.metadata (1.6 kB)\n",
            "Collecting keras-nightly>=3.6.0.dev (from tf-nightly)\n",
            "  Downloading keras_nightly-3.7.0.dev2024122303-py3-none-any.whl.metadata (5.8 kB)\n",
            "Requirement already satisfied: numpy<2.2.0,>=1.26.0 in /usr/local/lib/python3.10/dist-packages (from tf-nightly) (1.26.4)\n",
            "Requirement already satisfied: h5py>=3.11.0 in /usr/local/lib/python3.10/dist-packages (from tf-nightly) (3.12.1)\n",
            "Requirement already satisfied: ml-dtypes<1.0.0,>=0.4.0 in /usr/local/lib/python3.10/dist-packages (from tf-nightly) (0.4.1)\n",
            "Requirement already satisfied: tensorflow-io-gcs-filesystem>=0.23.1 in /usr/local/lib/python3.10/dist-packages (from tf-nightly) (0.37.1)\n",
            "Requirement already satisfied: wheel<1.0,>=0.23.0 in /usr/local/lib/python3.10/dist-packages (from astunparse>=1.6.0->tf-nightly) (0.45.1)\n",
            "Requirement already satisfied: rich in /usr/local/lib/python3.10/dist-packages (from keras-nightly>=3.6.0.dev->tf-nightly) (13.9.4)\n",
            "Requirement already satisfied: namex in /usr/local/lib/python3.10/dist-packages (from keras-nightly>=3.6.0.dev->tf-nightly) (0.0.8)\n",
            "Requirement already satisfied: optree in /usr/local/lib/python3.10/dist-packages (from keras-nightly>=3.6.0.dev->tf-nightly) (0.13.1)\n",
            "Requirement already satisfied: charset-normalizer<4,>=2 in /usr/local/lib/python3.10/dist-packages (from requests<3,>=2.21.0->tf-nightly) (3.4.0)\n",
            "Requirement already satisfied: idna<4,>=2.5 in /usr/local/lib/python3.10/dist-packages (from requests<3,>=2.21.0->tf-nightly) (3.10)\n",
            "Requirement already satisfied: urllib3<3,>=1.21.1 in /usr/local/lib/python3.10/dist-packages (from requests<3,>=2.21.0->tf-nightly) (2.2.3)\n",
            "Requirement already satisfied: certifi>=2017.4.17 in /usr/local/lib/python3.10/dist-packages (from requests<3,>=2.21.0->tf-nightly) (2024.12.14)\n",
            "Requirement already satisfied: markdown>=2.6.8 in /usr/local/lib/python3.10/dist-packages (from tb-nightly~=2.19.0.a->tf-nightly) (3.7)\n",
            "Requirement already satisfied: tensorboard-data-server<0.8.0,>=0.7.0 in /usr/local/lib/python3.10/dist-packages (from tb-nightly~=2.19.0.a->tf-nightly) (0.7.2)\n",
            "Requirement already satisfied: werkzeug>=1.0.1 in /usr/local/lib/python3.10/dist-packages (from tb-nightly~=2.19.0.a->tf-nightly) (3.1.3)\n",
            "Requirement already satisfied: MarkupSafe>=2.1.1 in /usr/local/lib/python3.10/dist-packages (from werkzeug>=1.0.1->tb-nightly~=2.19.0.a->tf-nightly) (3.0.2)\n",
            "Requirement already satisfied: markdown-it-py>=2.2.0 in /usr/local/lib/python3.10/dist-packages (from rich->keras-nightly>=3.6.0.dev->tf-nightly) (3.0.0)\n",
            "Requirement already satisfied: pygments<3.0.0,>=2.13.0 in /usr/local/lib/python3.10/dist-packages (from rich->keras-nightly>=3.6.0.dev->tf-nightly) (2.18.0)\n",
            "Requirement already satisfied: mdurl~=0.1 in /usr/local/lib/python3.10/dist-packages (from markdown-it-py>=2.2.0->rich->keras-nightly>=3.6.0.dev->tf-nightly) (0.1.2)\n",
            "Downloading tf_nightly-2.19.0.dev20241219-cp310-cp310-manylinux_2_17_x86_64.manylinux2014_x86_64.whl (634.0 MB)\n",
            "\u001b[2K   \u001b[90m━━━━━━━━━━━━━━━━━━━━━━━━━━━━━━━━━━━━━━━━\u001b[0m \u001b[32m634.0/634.0 MB\u001b[0m \u001b[31m1.7 MB/s\u001b[0m eta \u001b[36m0:00:00\u001b[0m\n",
            "\u001b[?25hDownloading keras_nightly-3.7.0.dev2024122303-py3-none-any.whl (1.3 MB)\n",
            "\u001b[2K   \u001b[90m━━━━━━━━━━━━━━━━━━━━━━━━━━━━━━━━━━━━━━━━\u001b[0m \u001b[32m1.3/1.3 MB\u001b[0m \u001b[31m49.2 MB/s\u001b[0m eta \u001b[36m0:00:00\u001b[0m\n",
            "\u001b[?25hDownloading tb_nightly-2.19.0a20241223-py3-none-any.whl (5.5 MB)\n",
            "\u001b[2K   \u001b[90m━━━━━━━━━━━━━━━━━━━━━━━━━━━━━━━━━━━━━━━━\u001b[0m \u001b[32m5.5/5.5 MB\u001b[0m \u001b[31m77.7 MB/s\u001b[0m eta \u001b[36m0:00:00\u001b[0m\n",
            "\u001b[?25hInstalling collected packages: tb-nightly, keras-nightly, tf-nightly\n",
            "Successfully installed keras-nightly-3.7.0.dev2024122303 tb-nightly-2.19.0a20241223 tf-nightly-2.19.0.dev20241219\n"
          ]
        },
        {
          "output_type": "error",
          "ename": "ModuleNotFoundError",
          "evalue": "No module named 'wheel.pep425tags'",
          "traceback": [
            "\u001b[0;31m---------------------------------------------------------------------------\u001b[0m",
            "\u001b[0;31mModuleNotFoundError\u001b[0m                       Traceback (most recent call last)",
            "\u001b[0;32m<ipython-input-1-6794b6af93cc>\u001b[0m in \u001b[0;36m<cell line: 20>\u001b[0;34m()\u001b[0m\n\u001b[1;32m     18\u001b[0m \u001b[0;31m# Install Pytorch\u001b[0m\u001b[0;34m\u001b[0m\u001b[0;34m\u001b[0m\u001b[0m\n\u001b[1;32m     19\u001b[0m \u001b[0;32mfrom\u001b[0m \u001b[0mos\u001b[0m \u001b[0;32mimport\u001b[0m \u001b[0mpath\u001b[0m\u001b[0;34m\u001b[0m\u001b[0;34m\u001b[0m\u001b[0m\n\u001b[0;32m---> 20\u001b[0;31m \u001b[0;32mfrom\u001b[0m \u001b[0mwheel\u001b[0m\u001b[0;34m.\u001b[0m\u001b[0mpep425tags\u001b[0m \u001b[0;32mimport\u001b[0m \u001b[0mget_abbr_impl\u001b[0m\u001b[0;34m,\u001b[0m \u001b[0mget_impl_ver\u001b[0m\u001b[0;34m,\u001b[0m \u001b[0mget_abi_tag\u001b[0m\u001b[0;34m\u001b[0m\u001b[0;34m\u001b[0m\u001b[0m\n\u001b[0m\u001b[1;32m     21\u001b[0m \u001b[0mplatform\u001b[0m \u001b[0;34m=\u001b[0m \u001b[0;34m'{}{}-{}'\u001b[0m\u001b[0;34m.\u001b[0m\u001b[0mformat\u001b[0m\u001b[0;34m(\u001b[0m\u001b[0mget_abbr_impl\u001b[0m\u001b[0;34m(\u001b[0m\u001b[0;34m)\u001b[0m\u001b[0;34m,\u001b[0m \u001b[0mget_impl_ver\u001b[0m\u001b[0;34m(\u001b[0m\u001b[0;34m)\u001b[0m\u001b[0;34m,\u001b[0m \u001b[0mget_abi_tag\u001b[0m\u001b[0;34m(\u001b[0m\u001b[0;34m)\u001b[0m\u001b[0;34m)\u001b[0m\u001b[0;34m\u001b[0m\u001b[0;34m\u001b[0m\u001b[0m\n\u001b[1;32m     22\u001b[0m \u001b[0;34m\u001b[0m\u001b[0m\n",
            "\u001b[0;31mModuleNotFoundError\u001b[0m: No module named 'wheel.pep425tags'",
            "",
            "\u001b[0;31m---------------------------------------------------------------------------\u001b[0;32m\nNOTE: If your import is failing due to a missing package, you can\nmanually install dependencies using either !pip or !apt.\n\nTo view examples of installing some common dependencies, click the\n\"Open Examples\" button below.\n\u001b[0;31m---------------------------------------------------------------------------\u001b[0m\n"
          ],
          "errorDetails": {
            "actions": [
              {
                "action": "open_url",
                "actionText": "Open Examples",
                "url": "/notebooks/snippets/importing_libraries.ipynb"
              }
            ]
          }
        }
      ],
      "source": [
        "# Importing a library that is not in Colaboratory\n",
        "!pip install -q matplotlib-venn\n",
        "!apt-get -qq install -y libfluidsynth1\n",
        "\n",
        "# Upgrading TensorFlow\n",
        "# To determine which version you're using:\n",
        "!pip show tensorflow\n",
        "\n",
        "# For the current version:\n",
        "!pip install --upgrade tensorflow\n",
        "\n",
        "# For a specific version:\n",
        "!pip install tensorflow==1.2\n",
        "\n",
        "# For the latest nightly build:\n",
        "!pip install tf-nightly\n",
        "\n",
        "# Install Pytorch\n",
        "from os import path\n",
        "from wheel.pep425tags import get_abbr_impl, get_impl_ver, get_abi_tag\n",
        "platform = '{}{}-{}'.format(get_abbr_impl(), get_impl_ver(), get_abi_tag())\n",
        "\n",
        "accelerator = 'cu80' if path.exists('/opt/bin/nvidia-smi') else 'cpu'\n",
        "\n",
        "!pip install -q http://download.pytorch.org/whl/{accelerator}/torch-0.4.0-{platform}-linux_x86_64.whl torchvision\n",
        "\n",
        "# Install 7zip reader libarchive\n",
        "# https://pypi.python.org/pypi/libarchive\n",
        "!apt-get -qq install -y libarchive-dev && pip install -q -U libarchive\n",
        "import libarchive\n",
        "\n",
        "# Install GraphViz & PyDot\n",
        "# https://pypi.python.org/pypi/pydot\n",
        "!apt-get -qq install -y graphviz && pip install -q pydot\n",
        "import pydot\n",
        "\n",
        "# Install cartopy\n",
        "!apt-get -qq install python-cartopy python3-cartopy\n",
        "import cartopy\n"
      ]
    },
    {
      "cell_type": "code",
      "source": [
        "%env KAGGLE_USERNAME=abcdefgh\n"
      ],
      "metadata": {
        "colab": {
          "base_uri": "https://localhost:8080/"
        },
        "id": "3SE4SwXauv1t",
        "outputId": "33459a3b-5f0a-43c9-88d8-7c55fcd71efb"
      },
      "execution_count": 2,
      "outputs": [
        {
          "output_type": "stream",
          "name": "stdout",
          "text": [
            "env: KAGGLE_USERNAME=abcdefgh\n"
          ]
        }
      ]
    },
    {
      "cell_type": "code",
      "source": [
        "from tensorflow.python.client import device_lib\n",
        "device_lib.list_local_devices()\n",
        "\n",
        "!ls /proc\n",
        "# CPU信息\n",
        "!cat /proc/cpuinfo\n",
        "# 内存\n",
        "!cat /proc/meminfo\n",
        "# 版本\n",
        "!cat /proc/version\n",
        "# 设备\n",
        "!cat /proc/devices\n",
        "# 空间\n",
        "!df\n",
        "\n"
      ],
      "metadata": {
        "colab": {
          "base_uri": "https://localhost:8080/"
        },
        "id": "Tu5TxymKvYqa",
        "outputId": "82079dcd-5c4a-4f46-ddbe-6a0bd554e796"
      },
      "execution_count": 3,
      "outputs": [
        {
          "output_type": "stream",
          "name": "stdout",
          "text": [
            "1     451  826\t      crypto\t   irq\t\tmdstat\t      scsi\t     tty\n",
            "114   47   827\t      devices\t   kallsyms\tmeminfo       self\t     uptime\n",
            "115   488  828\t      diskstats    kcore\tmisc\t      slabinfo\t     version\n",
            "1433  614  acpi       dma\t   keys\t\tmodules       softirqs\t     vmallocinfo\n",
            "1439  615  buddyinfo  driver\t   key-users\tmounts\t      stat\t     vmstat\n",
            "16    616  bus\t      execdomains  kmsg\t\tmtrr\t      swaps\t     zoneinfo\n",
            "1735  64   cgroups    filesystems  kpagecgroup\tnet\t      sys\n",
            "1739  65   cmdline    fs\t   kpagecount\tpagetypeinfo  sysrq-trigger\n",
            "18    724  config.gz  interrupts   kpageflags\tpartitions    sysvipc\n",
            "19    8    consoles   iomem\t   loadavg\tpressure      thread-self\n",
            "42    825  cpuinfo    ioports\t   locks\tschedstat     timer_list\n",
            "processor\t: 0\n",
            "vendor_id\t: GenuineIntel\n",
            "cpu family\t: 6\n",
            "model\t\t: 85\n",
            "model name\t: Intel(R) Xeon(R) CPU @ 2.00GHz\n",
            "stepping\t: 3\n",
            "microcode\t: 0xffffffff\n",
            "cpu MHz\t\t: 2000.228\n",
            "cache size\t: 39424 KB\n",
            "physical id\t: 0\n",
            "siblings\t: 2\n",
            "core id\t\t: 0\n",
            "cpu cores\t: 1\n",
            "apicid\t\t: 0\n",
            "initial apicid\t: 0\n",
            "fpu\t\t: yes\n",
            "fpu_exception\t: yes\n",
            "cpuid level\t: 13\n",
            "wp\t\t: yes\n",
            "flags\t\t: fpu vme de pse tsc msr pae mce cx8 apic sep mtrr pge mca cmov pat pse36 clflush mmx fxsr sse sse2 ss ht syscall nx pdpe1gb rdtscp lm constant_tsc rep_good nopl xtopology nonstop_tsc cpuid tsc_known_freq pni pclmulqdq ssse3 fma cx16 pcid sse4_1 sse4_2 x2apic movbe popcnt aes xsave avx f16c rdrand hypervisor lahf_lm abm 3dnowprefetch invpcid_single ssbd ibrs ibpb stibp fsgsbase tsc_adjust bmi1 hle avx2 smep bmi2 erms invpcid rtm mpx avx512f avx512dq rdseed adx smap clflushopt clwb avx512cd avx512bw avx512vl xsaveopt xsavec xgetbv1 xsaves arat md_clear arch_capabilities\n",
            "bugs\t\t: cpu_meltdown spectre_v1 spectre_v2 spec_store_bypass l1tf mds swapgs taa mmio_stale_data retbleed bhi\n",
            "bogomips\t: 4000.45\n",
            "clflush size\t: 64\n",
            "cache_alignment\t: 64\n",
            "address sizes\t: 46 bits physical, 48 bits virtual\n",
            "power management:\n",
            "\n",
            "processor\t: 1\n",
            "vendor_id\t: GenuineIntel\n",
            "cpu family\t: 6\n",
            "model\t\t: 85\n",
            "model name\t: Intel(R) Xeon(R) CPU @ 2.00GHz\n",
            "stepping\t: 3\n",
            "microcode\t: 0xffffffff\n",
            "cpu MHz\t\t: 2000.228\n",
            "cache size\t: 39424 KB\n",
            "physical id\t: 0\n",
            "siblings\t: 2\n",
            "core id\t\t: 0\n",
            "cpu cores\t: 1\n",
            "apicid\t\t: 1\n",
            "initial apicid\t: 1\n",
            "fpu\t\t: yes\n",
            "fpu_exception\t: yes\n",
            "cpuid level\t: 13\n",
            "wp\t\t: yes\n",
            "flags\t\t: fpu vme de pse tsc msr pae mce cx8 apic sep mtrr pge mca cmov pat pse36 clflush mmx fxsr sse sse2 ss ht syscall nx pdpe1gb rdtscp lm constant_tsc rep_good nopl xtopology nonstop_tsc cpuid tsc_known_freq pni pclmulqdq ssse3 fma cx16 pcid sse4_1 sse4_2 x2apic movbe popcnt aes xsave avx f16c rdrand hypervisor lahf_lm abm 3dnowprefetch invpcid_single ssbd ibrs ibpb stibp fsgsbase tsc_adjust bmi1 hle avx2 smep bmi2 erms invpcid rtm mpx avx512f avx512dq rdseed adx smap clflushopt clwb avx512cd avx512bw avx512vl xsaveopt xsavec xgetbv1 xsaves arat md_clear arch_capabilities\n",
            "bugs\t\t: cpu_meltdown spectre_v1 spectre_v2 spec_store_bypass l1tf mds swapgs taa mmio_stale_data retbleed bhi\n",
            "bogomips\t: 4000.45\n",
            "clflush size\t: 64\n",
            "cache_alignment\t: 64\n",
            "address sizes\t: 46 bits physical, 48 bits virtual\n",
            "power management:\n",
            "\n",
            "MemTotal:       13290460 kB\n",
            "MemFree:          144764 kB\n",
            "MemAvailable:   11554524 kB\n",
            "Buffers:          208388 kB\n",
            "Cached:         11067196 kB\n",
            "SwapCached:            0 kB\n",
            "Active:          1500080 kB\n",
            "Inactive:       10835048 kB\n",
            "Active(anon):       2124 kB\n",
            "Inactive(anon):  1070128 kB\n",
            "Active(file):    1497956 kB\n",
            "Inactive(file):  9764920 kB\n",
            "Unevictable:          20 kB\n",
            "Mlocked:              20 kB\n",
            "SwapTotal:             0 kB\n",
            "SwapFree:              0 kB\n",
            "Dirty:              7488 kB\n",
            "Writeback:             0 kB\n",
            "AnonPages:       1059584 kB\n",
            "Mapped:           939884 kB\n",
            "Shmem:             12676 kB\n",
            "KReclaimable:     472288 kB\n",
            "Slab:             559704 kB\n",
            "SReclaimable:     472288 kB\n",
            "SUnreclaim:        87416 kB\n",
            "KernelStack:        7872 kB\n",
            "PageTables:        16020 kB\n",
            "SecPageTables:         0 kB\n",
            "NFS_Unstable:          0 kB\n",
            "Bounce:                0 kB\n",
            "WritebackTmp:          0 kB\n",
            "CommitLimit:     6645228 kB\n",
            "Committed_AS:    4491740 kB\n",
            "VmallocTotal:   34359738367 kB\n",
            "VmallocUsed:       86036 kB\n",
            "VmallocChunk:          0 kB\n",
            "Percpu:             1144 kB\n",
            "HardwareCorrupted:     0 kB\n",
            "AnonHugePages:         0 kB\n",
            "ShmemHugePages:        0 kB\n",
            "ShmemPmdMapped:        0 kB\n",
            "FileHugePages:         0 kB\n",
            "FilePmdMapped:         0 kB\n",
            "CmaTotal:              0 kB\n",
            "CmaFree:               0 kB\n",
            "Unaccepted:            0 kB\n",
            "HugePages_Total:       0\n",
            "HugePages_Free:        0\n",
            "HugePages_Rsvd:        0\n",
            "HugePages_Surp:        0\n",
            "Hugepagesize:       2048 kB\n",
            "Hugetlb:               0 kB\n",
            "DirectMap4k:      244536 kB\n",
            "DirectMap2M:     7092224 kB\n",
            "DirectMap1G:     8388608 kB\n",
            "Linux version 6.1.85+ (builder@faf02fc191fd) (Chromium OS 16.0_pre484197_p20230405-r10 clang version 16.0.0 (/var/tmp/portage/sys-devel/llvm-16.0_pre484197_p20230405-r10/work/llvm-16.0_pre484197_p20230405/clang 2916b99182752b1aece8cc4479d8d6a20b5e02da), LLD 16.0.0) #1 SMP PREEMPT_DYNAMIC Thu Jun 27 21:05:47 UTC 2024\n",
            "Character devices:\n",
            "  1 mem\n",
            "  4 /dev/vc/0\n",
            "  4 tty\n",
            "  4 ttyS\n",
            "  5 /dev/tty\n",
            "  5 /dev/console\n",
            "  5 /dev/ptmx\n",
            "  7 vcs\n",
            " 10 misc\n",
            " 13 input\n",
            "128 ptm\n",
            "136 pts\n",
            "195 nvidia-frontend\n",
            "202 cpu/msr\n",
            "203 cpu/cpuid\n",
            "242 nvidia-uvm\n",
            "243 nvidia-nvswitch\n",
            "244 nvidia-nvlink\n",
            "245 nvidia-caps\n",
            "246 nvme-generic\n",
            "247 nvme\n",
            "248 bsg\n",
            "249 watchdog\n",
            "250 ptp\n",
            "251 pps\n",
            "252 rtc\n",
            "253 dax\n",
            "254 tpm\n",
            "\n",
            "Block devices:\n",
            "  7 loop\n",
            "  8 sd\n",
            "  9 md\n",
            " 11 sr\n",
            " 65 sd\n",
            " 66 sd\n",
            " 67 sd\n",
            " 68 sd\n",
            " 69 sd\n",
            " 70 sd\n",
            " 71 sd\n",
            "128 sd\n",
            "129 sd\n",
            "130 sd\n",
            "131 sd\n",
            "132 sd\n",
            "133 sd\n",
            "134 sd\n",
            "135 sd\n",
            "253 device-mapper\n",
            "254 mdp\n",
            "259 blkext\n",
            "Filesystem     1K-blocks     Used Available Use% Mounted on\n",
            "overlay        118108032 37246804  80844844  32% /\n",
            "tmpfs              65536        0     65536   0% /dev\n",
            "shm              5958656        0   5958656   0% /dev/shm\n",
            "/dev/root        2019696  1180612    839084  59% /usr/sbin/docker-init\n",
            "tmpfs            6645228      796   6644432   1% /var/colab\n",
            "/dev/sda1       70967700 41879468  29071848  60% /kaggle/input\n",
            "tmpfs            6645228        0   6645228   0% /proc/acpi\n",
            "tmpfs            6645228        0   6645228   0% /proc/scsi\n",
            "tmpfs            6645228        0   6645228   0% /sys/firmware\n",
            "drive          118108032 41305432  76802600  35% /content/drive\n"
          ]
        }
      ]
    },
    {
      "cell_type": "code",
      "source": [
        "import tensorflow as tf\n",
        "device_name = tf.test.gpu_device_name()\n",
        "if device_name != '/device:GPU:0':\n",
        "  raise SystemError('GPU device not found')\n",
        "print('Found GPU at: {}'.format(device_name))\n"
      ],
      "metadata": {
        "colab": {
          "base_uri": "https://localhost:8080/"
        },
        "id": "rw5rm9jFvdDH",
        "outputId": "22fa9383-ac0f-4c57-80f7-7ac81df6ab2a"
      },
      "execution_count": 4,
      "outputs": [
        {
          "output_type": "stream",
          "name": "stdout",
          "text": [
            "Found GPU at: /device:GPU:0\n"
          ]
        }
      ]
    },
    {
      "cell_type": "code",
      "source": [
        "import tensorflow as tf\n",
        "\n",
        "# 設置 GPU 記憶體增長\n",
        "gpus = tf.config.list_physical_devices('GPU')\n",
        "if gpus:\n",
        "    try:\n",
        "        for gpu in gpus:\n",
        "            tf.config.experimental.set_memory_growth(gpu, True)\n",
        "        print(\"Enabled GPU memory growth.\")\n",
        "    except RuntimeError as e:\n",
        "        print(f\"Error enabling GPU memory growth: {e}\")\n",
        "else:\n",
        "    print(\"No GPU found.\")\n",
        "\n",
        "\n"
      ],
      "metadata": {
        "colab": {
          "base_uri": "https://localhost:8080/"
        },
        "id": "Xr2oHznDvrEg",
        "outputId": "465b8772-4ea3-4f6e-99d9-0c0145dc4fca"
      },
      "execution_count": 5,
      "outputs": [
        {
          "output_type": "stream",
          "name": "stdout",
          "text": [
            "Enabled GPU memory growth.\n"
          ]
        }
      ]
    },
    {
      "cell_type": "code",
      "source": [
        "!jupyter notebook \\\n",
        "  --NotebookApp.allow_origin='https://colab.research.google.com' \\\n",
        "  --port=8888 \\\n",
        "  --NotebookApp.port_retries=0\n",
        "\n"
      ],
      "metadata": {
        "colab": {
          "base_uri": "https://localhost:8080/"
        },
        "id": "3vhcaWW3vv_y",
        "outputId": "69c3829b-2ca1-4c20-e9d0-3c07cf3cd286"
      },
      "execution_count": 6,
      "outputs": [
        {
          "output_type": "stream",
          "name": "stdout",
          "text": [
            "|DEBUG|Paths used for configuration of jupyter_notebook_config: \n",
            "    \t/etc/jupyter/jupyter_notebook_config.json\n",
            "|DEBUG|Paths used for configuration of jupyter_notebook_config: \n",
            "    \t/usr/local/etc/jupyter/jupyter_notebook_config.d/ipyparallel.json\n",
            "    \t/usr/local/etc/jupyter/jupyter_notebook_config.d/panel-client-jupyter.json\n",
            "    \t/usr/local/etc/jupyter/jupyter_notebook_config.json\n",
            "|DEBUG|Paths used for configuration of jupyter_notebook_config: \n",
            "    \t/usr/etc/jupyter/jupyter_notebook_config.json\n",
            "|DEBUG|Paths used for configuration of jupyter_notebook_config: \n",
            "    \t/root/.local/etc/jupyter/jupyter_notebook_config.json\n",
            "|DEBUG|Paths used for configuration of jupyter_notebook_config: \n",
            "    \t/root/.jupyter/jupyter_notebook_config.json\n",
            "\n",
            "  _   _          _      _\n",
            " | | | |_ __  __| |__ _| |_ ___\n",
            " | |_| | '_ \\/ _` / _` |  _/ -_)\n",
            "  \\___/| .__/\\__,_\\__,_|\\__\\___|\n",
            "       |_|\n",
            "                       \n",
            "Read the migration plan to Notebook 7 to learn about the new features and the actions to take if you are using extensions.\n",
            "\n",
            "https://jupyter-notebook.readthedocs.io/en/latest/migrate_to_notebook7.html\n",
            "\n",
            "Please note that updating to Notebook 7 might break some of your extensions.\n",
            "\n",
            "|INFO|google.colab serverextension initialized.\n",
            "|INFO|Loading IPython parallel extension\n",
            "|INFO|Serving notebooks from local directory: /content\n",
            "|INFO|Jupyter Notebook 6.5.5 is running at:\n",
            "|INFO|http://localhost:8888/?token=9a5e694e35c77330497919721785d650b0e6a0b2da74484b\n",
            "|INFO| or http://127.0.0.1:8888/?token=9a5e694e35c77330497919721785d650b0e6a0b2da74484b\n",
            "|INFO|Use Control-C to stop this server and shut down all kernels (twice to skip confirmation).\n",
            "|CRITICAL|\n",
            "    \n",
            "    To access the notebook, open this file in a browser:\n",
            "        file:///root/.local/share/jupyter/runtime/nbserver-2126-open.html\n",
            "    Or copy and paste one of these URLs:\n",
            "        http://localhost:8888/?token=9a5e694e35c77330497919721785d650b0e6a0b2da74484b\n",
            "     or http://127.0.0.1:8888/?token=9a5e694e35c77330497919721785d650b0e6a0b2da74484b\n",
            "|INFO|interrupted\n",
            "|CRITICAL|received signal 2, stopping\n",
            "|INFO|Shutting down 0 kernels\n",
            "|INFO|Shutting down 0 terminals\n"
          ]
        }
      ]
    },
    {
      "cell_type": "code",
      "source": [
        "import os\n",
        "\n",
        "path = \"/content/drive/colab-notebook/lesson1-week2/assignment2\"\n",
        "os.chdir(path)\n",
        "os.listdir(path)\n",
        "os.chdir(path)\n",
        "os.listdir(path)"
      ],
      "metadata": {
        "colab": {
          "base_uri": "https://localhost:8080/",
          "height": 211
        },
        "id": "T8FrbRXrv0nv",
        "outputId": "a1867087-6aac-4839-d43f-58160500b90b"
      },
      "execution_count": 9,
      "outputs": [
        {
          "output_type": "error",
          "ename": "FileNotFoundError",
          "evalue": "[Errno 2] No such file or directory: '/content/drive/colab-notebook/lesson1-week2/assignment2'",
          "traceback": [
            "\u001b[0;31m---------------------------------------------------------------------------\u001b[0m",
            "\u001b[0;31mFileNotFoundError\u001b[0m                         Traceback (most recent call last)",
            "\u001b[0;32m<ipython-input-9-47d3ae4c8e16>\u001b[0m in \u001b[0;36m<cell line: 4>\u001b[0;34m()\u001b[0m\n\u001b[1;32m      2\u001b[0m \u001b[0;34m\u001b[0m\u001b[0m\n\u001b[1;32m      3\u001b[0m \u001b[0mpath\u001b[0m \u001b[0;34m=\u001b[0m \u001b[0;34m\"/content/drive/colab-notebook/lesson1-week2/assignment2\"\u001b[0m\u001b[0;34m\u001b[0m\u001b[0;34m\u001b[0m\u001b[0m\n\u001b[0;32m----> 4\u001b[0;31m \u001b[0mos\u001b[0m\u001b[0;34m.\u001b[0m\u001b[0mchdir\u001b[0m\u001b[0;34m(\u001b[0m\u001b[0mpath\u001b[0m\u001b[0;34m)\u001b[0m\u001b[0;34m\u001b[0m\u001b[0;34m\u001b[0m\u001b[0m\n\u001b[0m\u001b[1;32m      5\u001b[0m \u001b[0mos\u001b[0m\u001b[0;34m.\u001b[0m\u001b[0mlistdir\u001b[0m\u001b[0;34m(\u001b[0m\u001b[0mpath\u001b[0m\u001b[0;34m)\u001b[0m\u001b[0;34m\u001b[0m\u001b[0;34m\u001b[0m\u001b[0m\n\u001b[1;32m      6\u001b[0m \u001b[0mos\u001b[0m\u001b[0;34m.\u001b[0m\u001b[0mchdir\u001b[0m\u001b[0;34m(\u001b[0m\u001b[0mpath\u001b[0m\u001b[0;34m)\u001b[0m\u001b[0;34m\u001b[0m\u001b[0;34m\u001b[0m\u001b[0m\n",
            "\u001b[0;31mFileNotFoundError\u001b[0m: [Errno 2] No such file or directory: '/content/drive/colab-notebook/lesson1-week2/assignment2'"
          ]
        }
      ]
    },
    {
      "cell_type": "code",
      "source": [
        "from google.colab import drive\n",
        "drive.mount('/content/drive')\n",
        "\n"
      ],
      "metadata": {
        "colab": {
          "base_uri": "https://localhost:8080/"
        },
        "id": "jNgRUNkL1gil",
        "outputId": "4210c42a-fc90-42d8-c996-539c8602023b"
      },
      "execution_count": 10,
      "outputs": [
        {
          "output_type": "stream",
          "name": "stdout",
          "text": [
            "Drive already mounted at /content/drive; to attempt to forcibly remount, call drive.mount(\"/content/drive\", force_remount=True).\n"
          ]
        }
      ]
    },
    {
      "cell_type": "code",
      "source": [
        "import os\n",
        "\n",
        "base_path = \"/content/drive/My Drive\"\n",
        "print(os.listdir(base_path))  # 列出 My Drive 目錄下的內容\n",
        "\n",
        "\n"
      ],
      "metadata": {
        "colab": {
          "base_uri": "https://localhost:8080/"
        },
        "id": "_aW4WVw21yX5",
        "outputId": "1c052ab3-db92-48fc-e507-6a8cc70e179a"
      },
      "execution_count": 12,
      "outputs": [
        {
          "output_type": "stream",
          "name": "stdout",
          "text": [
            "['no1.docx', 'no game no life zero .mp4', 'java作業', 'hw4.zip', '杜威報告.docx', 'IMG20240617145543.jpg', 'IMG20240618015952.jpg', '解java 1.java', '(課程十五)綜合研討(一)113.12.27(中文版)(重要).pptx', '南華資工系 新產品開發管理與專利保護課程之綜合作業(一)(113.10.11)中文.doc', 'colab', 'Colab Notebooks']\n"
          ]
        }
      ]
    },
    {
      "cell_type": "code",
      "source": [
        "import os\n",
        "from google.colab import drive\n",
        "\n",
        "# 掛載 Google Drive\n",
        "drive.mount('/content/drive')\n",
        "\n",
        "# 定義目錄路徑\n",
        "path = \"/content/drive/My Drive/colab-notebook/lesson1-week2/assignment2\"\n",
        "\n",
        "# 如果目錄不存在，創建它\n",
        "if not os.path.exists(path):\n",
        "    os.makedirs(path)  # 自動創建多層目錄\n",
        "    print(f\"目錄已創建: {path}\")\n",
        "else:\n",
        "    print(f\"目錄已存在: {path}\")\n"
      ],
      "metadata": {
        "colab": {
          "base_uri": "https://localhost:8080/"
        },
        "id": "pXGYNxeI2Szn",
        "outputId": "126470b9-4aaa-4181-82ea-27edff8fd18a"
      },
      "execution_count": 14,
      "outputs": [
        {
          "output_type": "stream",
          "name": "stdout",
          "text": [
            "Drive already mounted at /content/drive; to attempt to forcibly remount, call drive.mount(\"/content/drive\", force_remount=True).\n",
            "目錄已創建: /content/drive/My Drive/colab-notebook/lesson1-week2/assignment2\n"
          ]
        }
      ]
    },
    {
      "cell_type": "code",
      "source": [
        "import os\n",
        "\n",
        "# 正確的路徑\n",
        "path = \"/content/drive/My Drive/colab-notebook/lesson1-week2/assignment2\"\n",
        "\n",
        "# 檢查路徑是否存在\n",
        "if os.path.exists(path):\n",
        "    os.chdir(path)  # 切換到目錄\n",
        "    print(\"當前目錄內容：\", os.listdir(path))\n",
        "else:\n",
        "    print(f\"目錄不存在：{path}\")\n"
      ],
      "metadata": {
        "colab": {
          "base_uri": "https://localhost:8080/"
        },
        "id": "6MliDnGZ2tbf",
        "outputId": "ee641973-12ae-40cd-e029-d478a923354a"
      },
      "execution_count": 17,
      "outputs": [
        {
          "output_type": "stream",
          "name": "stdout",
          "text": [
            "當前目錄內容： []\n"
          ]
        }
      ]
    },
    {
      "cell_type": "code",
      "source": [
        "from google.colab import drive\n",
        "drive.mount(\"/content/drive\")\n",
        "\n",
        "print('Files in Drive:')\n",
        "!ls /content/drive/'My Drive'"
      ],
      "metadata": {
        "colab": {
          "base_uri": "https://localhost:8080/"
        },
        "id": "BtdGNuPw31YC",
        "outputId": "e46a3e44-5d00-4374-a30c-52b81eed7873"
      },
      "execution_count": 18,
      "outputs": [
        {
          "output_type": "stream",
          "name": "stdout",
          "text": [
            "Drive already mounted at /content/drive; to attempt to forcibly remount, call drive.mount(\"/content/drive\", force_remount=True).\n",
            "Files in Drive:\n",
            " colab\t\t\t no1.docx\n",
            " colab-notebook\t\t'no game no life zero .mp4'\n",
            "'Colab Notebooks'\t'南華資工系 新產品開發管理與專利保護課程之綜合作業(一)(113.10.11)中文.doc'\n",
            " hw4.zip\t\t 杜威報告.docx\n",
            " IMG20240617145543.jpg\t'解java 1.java'\n",
            " IMG20240618015952.jpg\t'(課程十五)綜合研討(一)113.12.27(中文版)(重要).pptx'\n",
            " java作業\n"
          ]
        }
      ]
    },
    {
      "cell_type": "code",
      "source": [
        "# Working with files\n",
        "# Create directories for the new project\n",
        "!mkdir -p drive/kaggle/talkingdata-adtracking-fraud-detection\n",
        "\n",
        "!mkdir -p drive/kaggle/talkingdata-adtracking-fraud-detection/input/train\n",
        "!mkdir -p drive/kaggle/talkingdata-adtracking-fraud-detection/input/test\n",
        "!mkdir -p drive/kaggle/talkingdata-adtracking-fraud-detection/input/valid\n",
        "\n",
        "# Download files\n",
        "!wget -O /content/drive/'My Drive'/Data/fashion_mnist/train-images-idx3-ubyte.gz http://fashion-mnist.s3-website.eu-central-1.amazonaws.com/train-images-idx3-ubyte.gz\n",
        "\n",
        "# Download and Unzip files\n",
        "%env DIR=/content/drive/My Drive/Data/animals/cats_and_dogs\n",
        "\n",
        "!rm -rf \"$DIR\"\n",
        "!mkdir -pv \"$DIR\"\n",
        "!wget -O \"$DIR\"/Cat_Dog_data.zip https://s3.amazonaws.com/content.udacity-data.com/nd089/Cat_Dog_data.zip\n",
        "\n",
        "# remove existing directories\n",
        "!(cd \"$DIR\" && unzip -qqj Cat_Dog_data.zip -d .)\n",
        "\n",
        "\n"
      ],
      "metadata": {
        "colab": {
          "base_uri": "https://localhost:8080/"
        },
        "id": "T0CBFKki3-J4",
        "outputId": "64e2cbe3-8ba8-43dd-fee4-45e8fcaec843"
      },
      "execution_count": 20,
      "outputs": [
        {
          "output_type": "stream",
          "name": "stdout",
          "text": [
            "/content/drive/My Drive/Data/fashion_mnist/train-images-idx3-ubyte.gz: No such file or directory\n",
            "env: DIR=/content/drive/My Drive/Data/animals/cats_and_dogs\n",
            "mkdir: created directory '/content/drive/My Drive/Data'\n",
            "mkdir: created directory '/content/drive/My Drive/Data/animals'\n",
            "mkdir: created directory '/content/drive/My Drive/Data/animals/cats_and_dogs'\n",
            "--2024-12-23 14:16:32--  https://s3.amazonaws.com/content.udacity-data.com/nd089/Cat_Dog_data.zip\n",
            "Resolving s3.amazonaws.com (s3.amazonaws.com)... 52.217.120.152, 16.182.103.0, 52.216.50.144, ...\n",
            "Connecting to s3.amazonaws.com (s3.amazonaws.com)|52.217.120.152|:443... connected.\n",
            "HTTP request sent, awaiting response... 200 OK\n",
            "Length: 580495262 (554M) [application/zip]\n",
            "Saving to: ‘/content/drive/My Drive/Data/animals/cats_and_dogs/Cat_Dog_data.zip’\n",
            "\n",
            "/content/drive/My D 100%[===================>] 553.60M  48.9MB/s    in 11s     \n",
            "\n",
            "2024-12-23 14:16:44 (48.3 MB/s) - ‘/content/drive/My Drive/Data/animals/cats_and_dogs/Cat_Dog_data.zip’ saved [580495262/580495262]\n",
            "\n",
            "replace ./.DS_Store? [y]es, [n]o, [A]ll, [N]one, [r]ename: "
          ]
        }
      ]
    },
    {
      "cell_type": "code",
      "source": [
        "from google.colab import files\n",
        "\n",
        "# Upload file\n",
        "uploaded = files.upload()\n",
        "\n",
        "for fn in uploaded.keys():\n",
        "  print('User uploaded file \"{name}\" with length {length} bytes'.format(\n",
        "      name=fn, length=len(uploaded[fn])))\n",
        "\n",
        "# Download file\n",
        "with open('example.txt', 'w') as f:\n",
        "  f.write('some content')\n",
        "\n",
        "files.download('example.txt')"
      ],
      "metadata": {
        "colab": {
          "base_uri": "https://localhost:8080/",
          "height": 379
        },
        "id": "Z6Dd7UAS4Cpj",
        "outputId": "f9236538-fb1a-4b94-939d-3e23ade658eb"
      },
      "execution_count": 2,
      "outputs": [
        {
          "output_type": "display_data",
          "data": {
            "text/plain": [
              "<IPython.core.display.HTML object>"
            ],
            "text/html": [
              "\n",
              "     <input type=\"file\" id=\"files-e1fbb76c-8754-4b6f-b678-af1dc2587f68\" name=\"files[]\" multiple disabled\n",
              "        style=\"border:none\" />\n",
              "     <output id=\"result-e1fbb76c-8754-4b6f-b678-af1dc2587f68\">\n",
              "      Upload widget is only available when the cell has been executed in the\n",
              "      current browser session. Please rerun this cell to enable.\n",
              "      </output>\n",
              "      <script>// Copyright 2017 Google LLC\n",
              "//\n",
              "// Licensed under the Apache License, Version 2.0 (the \"License\");\n",
              "// you may not use this file except in compliance with the License.\n",
              "// You may obtain a copy of the License at\n",
              "//\n",
              "//      http://www.apache.org/licenses/LICENSE-2.0\n",
              "//\n",
              "// Unless required by applicable law or agreed to in writing, software\n",
              "// distributed under the License is distributed on an \"AS IS\" BASIS,\n",
              "// WITHOUT WARRANTIES OR CONDITIONS OF ANY KIND, either express or implied.\n",
              "// See the License for the specific language governing permissions and\n",
              "// limitations under the License.\n",
              "\n",
              "/**\n",
              " * @fileoverview Helpers for google.colab Python module.\n",
              " */\n",
              "(function(scope) {\n",
              "function span(text, styleAttributes = {}) {\n",
              "  const element = document.createElement('span');\n",
              "  element.textContent = text;\n",
              "  for (const key of Object.keys(styleAttributes)) {\n",
              "    element.style[key] = styleAttributes[key];\n",
              "  }\n",
              "  return element;\n",
              "}\n",
              "\n",
              "// Max number of bytes which will be uploaded at a time.\n",
              "const MAX_PAYLOAD_SIZE = 100 * 1024;\n",
              "\n",
              "function _uploadFiles(inputId, outputId) {\n",
              "  const steps = uploadFilesStep(inputId, outputId);\n",
              "  const outputElement = document.getElementById(outputId);\n",
              "  // Cache steps on the outputElement to make it available for the next call\n",
              "  // to uploadFilesContinue from Python.\n",
              "  outputElement.steps = steps;\n",
              "\n",
              "  return _uploadFilesContinue(outputId);\n",
              "}\n",
              "\n",
              "// This is roughly an async generator (not supported in the browser yet),\n",
              "// where there are multiple asynchronous steps and the Python side is going\n",
              "// to poll for completion of each step.\n",
              "// This uses a Promise to block the python side on completion of each step,\n",
              "// then passes the result of the previous step as the input to the next step.\n",
              "function _uploadFilesContinue(outputId) {\n",
              "  const outputElement = document.getElementById(outputId);\n",
              "  const steps = outputElement.steps;\n",
              "\n",
              "  const next = steps.next(outputElement.lastPromiseValue);\n",
              "  return Promise.resolve(next.value.promise).then((value) => {\n",
              "    // Cache the last promise value to make it available to the next\n",
              "    // step of the generator.\n",
              "    outputElement.lastPromiseValue = value;\n",
              "    return next.value.response;\n",
              "  });\n",
              "}\n",
              "\n",
              "/**\n",
              " * Generator function which is called between each async step of the upload\n",
              " * process.\n",
              " * @param {string} inputId Element ID of the input file picker element.\n",
              " * @param {string} outputId Element ID of the output display.\n",
              " * @return {!Iterable<!Object>} Iterable of next steps.\n",
              " */\n",
              "function* uploadFilesStep(inputId, outputId) {\n",
              "  const inputElement = document.getElementById(inputId);\n",
              "  inputElement.disabled = false;\n",
              "\n",
              "  const outputElement = document.getElementById(outputId);\n",
              "  outputElement.innerHTML = '';\n",
              "\n",
              "  const pickedPromise = new Promise((resolve) => {\n",
              "    inputElement.addEventListener('change', (e) => {\n",
              "      resolve(e.target.files);\n",
              "    });\n",
              "  });\n",
              "\n",
              "  const cancel = document.createElement('button');\n",
              "  inputElement.parentElement.appendChild(cancel);\n",
              "  cancel.textContent = 'Cancel upload';\n",
              "  const cancelPromise = new Promise((resolve) => {\n",
              "    cancel.onclick = () => {\n",
              "      resolve(null);\n",
              "    };\n",
              "  });\n",
              "\n",
              "  // Wait for the user to pick the files.\n",
              "  const files = yield {\n",
              "    promise: Promise.race([pickedPromise, cancelPromise]),\n",
              "    response: {\n",
              "      action: 'starting',\n",
              "    }\n",
              "  };\n",
              "\n",
              "  cancel.remove();\n",
              "\n",
              "  // Disable the input element since further picks are not allowed.\n",
              "  inputElement.disabled = true;\n",
              "\n",
              "  if (!files) {\n",
              "    return {\n",
              "      response: {\n",
              "        action: 'complete',\n",
              "      }\n",
              "    };\n",
              "  }\n",
              "\n",
              "  for (const file of files) {\n",
              "    const li = document.createElement('li');\n",
              "    li.append(span(file.name, {fontWeight: 'bold'}));\n",
              "    li.append(span(\n",
              "        `(${file.type || 'n/a'}) - ${file.size} bytes, ` +\n",
              "        `last modified: ${\n",
              "            file.lastModifiedDate ? file.lastModifiedDate.toLocaleDateString() :\n",
              "                                    'n/a'} - `));\n",
              "    const percent = span('0% done');\n",
              "    li.appendChild(percent);\n",
              "\n",
              "    outputElement.appendChild(li);\n",
              "\n",
              "    const fileDataPromise = new Promise((resolve) => {\n",
              "      const reader = new FileReader();\n",
              "      reader.onload = (e) => {\n",
              "        resolve(e.target.result);\n",
              "      };\n",
              "      reader.readAsArrayBuffer(file);\n",
              "    });\n",
              "    // Wait for the data to be ready.\n",
              "    let fileData = yield {\n",
              "      promise: fileDataPromise,\n",
              "      response: {\n",
              "        action: 'continue',\n",
              "      }\n",
              "    };\n",
              "\n",
              "    // Use a chunked sending to avoid message size limits. See b/62115660.\n",
              "    let position = 0;\n",
              "    do {\n",
              "      const length = Math.min(fileData.byteLength - position, MAX_PAYLOAD_SIZE);\n",
              "      const chunk = new Uint8Array(fileData, position, length);\n",
              "      position += length;\n",
              "\n",
              "      const base64 = btoa(String.fromCharCode.apply(null, chunk));\n",
              "      yield {\n",
              "        response: {\n",
              "          action: 'append',\n",
              "          file: file.name,\n",
              "          data: base64,\n",
              "        },\n",
              "      };\n",
              "\n",
              "      let percentDone = fileData.byteLength === 0 ?\n",
              "          100 :\n",
              "          Math.round((position / fileData.byteLength) * 100);\n",
              "      percent.textContent = `${percentDone}% done`;\n",
              "\n",
              "    } while (position < fileData.byteLength);\n",
              "  }\n",
              "\n",
              "  // All done.\n",
              "  yield {\n",
              "    response: {\n",
              "      action: 'complete',\n",
              "    }\n",
              "  };\n",
              "}\n",
              "\n",
              "scope.google = scope.google || {};\n",
              "scope.google.colab = scope.google.colab || {};\n",
              "scope.google.colab._files = {\n",
              "  _uploadFiles,\n",
              "  _uploadFilesContinue,\n",
              "};\n",
              "})(self);\n",
              "</script> "
            ]
          },
          "metadata": {}
        },
        {
          "output_type": "error",
          "ename": "KeyboardInterrupt",
          "evalue": "",
          "traceback": [
            "\u001b[0;31m---------------------------------------------------------------------------\u001b[0m",
            "\u001b[0;31mKeyboardInterrupt\u001b[0m                         Traceback (most recent call last)",
            "\u001b[0;32m<ipython-input-2-256cfb247c5b>\u001b[0m in \u001b[0;36m<cell line: 4>\u001b[0;34m()\u001b[0m\n\u001b[1;32m      2\u001b[0m \u001b[0;34m\u001b[0m\u001b[0m\n\u001b[1;32m      3\u001b[0m \u001b[0;31m# Upload file\u001b[0m\u001b[0;34m\u001b[0m\u001b[0;34m\u001b[0m\u001b[0m\n\u001b[0;32m----> 4\u001b[0;31m \u001b[0muploaded\u001b[0m \u001b[0;34m=\u001b[0m \u001b[0mfiles\u001b[0m\u001b[0;34m.\u001b[0m\u001b[0mupload\u001b[0m\u001b[0;34m(\u001b[0m\u001b[0;34m)\u001b[0m\u001b[0;34m\u001b[0m\u001b[0;34m\u001b[0m\u001b[0m\n\u001b[0m\u001b[1;32m      5\u001b[0m \u001b[0;34m\u001b[0m\u001b[0m\n\u001b[1;32m      6\u001b[0m \u001b[0;32mfor\u001b[0m \u001b[0mfn\u001b[0m \u001b[0;32min\u001b[0m \u001b[0muploaded\u001b[0m\u001b[0;34m.\u001b[0m\u001b[0mkeys\u001b[0m\u001b[0;34m(\u001b[0m\u001b[0;34m)\u001b[0m\u001b[0;34m:\u001b[0m\u001b[0;34m\u001b[0m\u001b[0;34m\u001b[0m\u001b[0m\n",
            "\u001b[0;32m/usr/local/lib/python3.10/dist-packages/google/colab/files.py\u001b[0m in \u001b[0;36mupload\u001b[0;34m(target_dir)\u001b[0m\n\u001b[1;32m     70\u001b[0m   \"\"\"\n\u001b[1;32m     71\u001b[0m \u001b[0;34m\u001b[0m\u001b[0m\n\u001b[0;32m---> 72\u001b[0;31m   \u001b[0muploaded_files\u001b[0m \u001b[0;34m=\u001b[0m \u001b[0m_upload_files\u001b[0m\u001b[0;34m(\u001b[0m\u001b[0mmultiple\u001b[0m\u001b[0;34m=\u001b[0m\u001b[0;32mTrue\u001b[0m\u001b[0;34m)\u001b[0m\u001b[0;34m\u001b[0m\u001b[0;34m\u001b[0m\u001b[0m\n\u001b[0m\u001b[1;32m     73\u001b[0m   \u001b[0;31m# Mapping from original filename to filename as saved locally.\u001b[0m\u001b[0;34m\u001b[0m\u001b[0;34m\u001b[0m\u001b[0m\n\u001b[1;32m     74\u001b[0m   \u001b[0mlocal_filenames\u001b[0m \u001b[0;34m=\u001b[0m \u001b[0mdict\u001b[0m\u001b[0;34m(\u001b[0m\u001b[0;34m)\u001b[0m\u001b[0;34m\u001b[0m\u001b[0;34m\u001b[0m\u001b[0m\n",
            "\u001b[0;32m/usr/local/lib/python3.10/dist-packages/google/colab/files.py\u001b[0m in \u001b[0;36m_upload_files\u001b[0;34m(multiple)\u001b[0m\n\u001b[1;32m    162\u001b[0m \u001b[0;34m\u001b[0m\u001b[0m\n\u001b[1;32m    163\u001b[0m   \u001b[0;31m# First result is always an indication that the file picker has completed.\u001b[0m\u001b[0;34m\u001b[0m\u001b[0;34m\u001b[0m\u001b[0m\n\u001b[0;32m--> 164\u001b[0;31m   result = _output.eval_js(\n\u001b[0m\u001b[1;32m    165\u001b[0m       'google.colab._files._uploadFiles(\"{input_id}\", \"{output_id}\")'.format(\n\u001b[1;32m    166\u001b[0m           \u001b[0minput_id\u001b[0m\u001b[0;34m=\u001b[0m\u001b[0minput_id\u001b[0m\u001b[0;34m,\u001b[0m \u001b[0moutput_id\u001b[0m\u001b[0;34m=\u001b[0m\u001b[0moutput_id\u001b[0m\u001b[0;34m\u001b[0m\u001b[0;34m\u001b[0m\u001b[0m\n",
            "\u001b[0;32m/usr/local/lib/python3.10/dist-packages/google/colab/output/_js.py\u001b[0m in \u001b[0;36meval_js\u001b[0;34m(script, ignore_result, timeout_sec)\u001b[0m\n\u001b[1;32m     38\u001b[0m   \u001b[0;32mif\u001b[0m \u001b[0mignore_result\u001b[0m\u001b[0;34m:\u001b[0m\u001b[0;34m\u001b[0m\u001b[0;34m\u001b[0m\u001b[0m\n\u001b[1;32m     39\u001b[0m     \u001b[0;32mreturn\u001b[0m\u001b[0;34m\u001b[0m\u001b[0;34m\u001b[0m\u001b[0m\n\u001b[0;32m---> 40\u001b[0;31m   \u001b[0;32mreturn\u001b[0m \u001b[0m_message\u001b[0m\u001b[0;34m.\u001b[0m\u001b[0mread_reply_from_input\u001b[0m\u001b[0;34m(\u001b[0m\u001b[0mrequest_id\u001b[0m\u001b[0;34m,\u001b[0m \u001b[0mtimeout_sec\u001b[0m\u001b[0;34m)\u001b[0m\u001b[0;34m\u001b[0m\u001b[0;34m\u001b[0m\u001b[0m\n\u001b[0m\u001b[1;32m     41\u001b[0m \u001b[0;34m\u001b[0m\u001b[0m\n\u001b[1;32m     42\u001b[0m \u001b[0;34m\u001b[0m\u001b[0m\n",
            "\u001b[0;32m/usr/local/lib/python3.10/dist-packages/google/colab/_message.py\u001b[0m in \u001b[0;36mread_reply_from_input\u001b[0;34m(message_id, timeout_sec)\u001b[0m\n\u001b[1;32m     94\u001b[0m     \u001b[0mreply\u001b[0m \u001b[0;34m=\u001b[0m \u001b[0m_read_next_input_message\u001b[0m\u001b[0;34m(\u001b[0m\u001b[0;34m)\u001b[0m\u001b[0;34m\u001b[0m\u001b[0;34m\u001b[0m\u001b[0m\n\u001b[1;32m     95\u001b[0m     \u001b[0;32mif\u001b[0m \u001b[0mreply\u001b[0m \u001b[0;34m==\u001b[0m \u001b[0m_NOT_READY\u001b[0m \u001b[0;32mor\u001b[0m \u001b[0;32mnot\u001b[0m \u001b[0misinstance\u001b[0m\u001b[0;34m(\u001b[0m\u001b[0mreply\u001b[0m\u001b[0;34m,\u001b[0m \u001b[0mdict\u001b[0m\u001b[0;34m)\u001b[0m\u001b[0;34m:\u001b[0m\u001b[0;34m\u001b[0m\u001b[0;34m\u001b[0m\u001b[0m\n\u001b[0;32m---> 96\u001b[0;31m       \u001b[0mtime\u001b[0m\u001b[0;34m.\u001b[0m\u001b[0msleep\u001b[0m\u001b[0;34m(\u001b[0m\u001b[0;36m0.025\u001b[0m\u001b[0;34m)\u001b[0m\u001b[0;34m\u001b[0m\u001b[0;34m\u001b[0m\u001b[0m\n\u001b[0m\u001b[1;32m     97\u001b[0m       \u001b[0;32mcontinue\u001b[0m\u001b[0;34m\u001b[0m\u001b[0;34m\u001b[0m\u001b[0m\n\u001b[1;32m     98\u001b[0m     if (\n",
            "\u001b[0;31mKeyboardInterrupt\u001b[0m: "
          ]
        }
      ]
    },
    {
      "cell_type": "code",
      "source": [
        "#網格\n",
        "import ipywidgets as widgets\n",
        "import random\n",
        "import time\n",
        "from IPython.display import display\n",
        "\n",
        "# 創建 2x2 的 Grid\n",
        "grid = widgets.GridspecLayout(2, 2)\n",
        "\n",
        "# 在每個網格中放置 Output 控件\n",
        "outputs = [[widgets.Output() for _ in range(2)] for _ in range(2)]\n",
        "for i in range(2):\n",
        "    for j in range(2):\n",
        "        grid[i, j] = outputs[i][j]\n",
        "\n",
        "# 顯示 Grid\n",
        "display(grid)\n",
        "\n",
        "# 動態更新輸出\n",
        "for i in range(20):\n",
        "    row, col = random.randint(0, 1), random.randint(0, 1)\n",
        "    with outputs[row][col]:\n",
        "        print(f\"Update {i}\")\n",
        "    time.sleep(0.5)\n"
      ],
      "metadata": {
        "colab": {
          "base_uri": "https://localhost:8080/",
          "height": 260,
          "referenced_widgets": [
            "623e8a120dfe40f2b1d697e36f2c61d2",
            "d0a083fa52594d329e8e7621a1cb52fb",
            "562ad0f09d184b728a5d7ac3231e2189",
            "a8436d641aa84ca5835ee60f918c0256",
            "b4482e80154541a69eeecaf8927f3140",
            "3bb24231c4844d8ba92f6868c061bea1",
            "b5b24857220d40f0beb50c7f7c2bfb6c",
            "ca4800cdc370456fbd89b76e08d991b4",
            "ef0f543b4d144b43958add8ac5b4f5c6",
            "bf6ef4cfbf3048a99785aa6abce6bdd1"
          ]
        },
        "id": "KfZhsRNO4LGM",
        "outputId": "6134369b-9670-4050-c4a5-841ed011ea1b"
      },
      "execution_count": 7,
      "outputs": [
        {
          "output_type": "display_data",
          "data": {
            "text/plain": [
              "GridspecLayout(children=(Output(layout=Layout(grid_area='widget001')), Output(layout=Layout(grid_area='widget0…"
            ],
            "application/vnd.jupyter.widget-view+json": {
              "version_major": 2,
              "version_minor": 0,
              "model_id": "623e8a120dfe40f2b1d697e36f2c61d2"
            }
          },
          "metadata": {}
        }
      ]
    },
    {
      "cell_type": "code",
      "source": [
        "from __future__ import print_function\n",
        "\n",
        "from google.colab import widgets\n",
        "from google.colab import output\n",
        "from matplotlib import pylab\n",
        "from six.moves import zip\n",
        "\n",
        "\n",
        "def create_tab(location):\n",
        "  tb = widgets.TabBar(['a', 'b'], location=location)\n",
        "  with tb.output_to('a'):\n",
        "    pylab.figure(figsize=(3, 3))\n",
        "    pylab.plot([1, 2, 3])\n",
        "  # Note you can access tab by its name (if they are unique), or\n",
        "  # by its index.\n",
        "  with tb.output_to(1):\n",
        "    pylab.figure(figsize=(3, 3))\n",
        "    pylab.plot([3, 2, 3])\n",
        "    pylab.show()\n",
        "\n",
        "\n",
        "print('Different orientations for tabs')\n",
        "\n",
        "positions = ['start', 'bottom', 'end', 'top']\n",
        "\n",
        "for p, _ in zip(positions, widgets.Grid(1, 4)):\n",
        "  print('---- %s ---' % p)\n",
        "  create_tab(p)\n",
        ""
      ],
      "metadata": {
        "colab": {
          "resources": {
            "http://localhost:8080/nbextensions/google.colab/tabbar.css": {
              "data": "Lmdvb2ctdGFie3Bvc2l0aW9uOnJlbGF0aXZlO3BhZGRpbmc6NHB4IDhweDtjb2xvcjojMDBjO3RleHQtZGVjb3JhdGlvbjp1bmRlcmxpbmU7Y3Vyc29yOmRlZmF1bHR9Lmdvb2ctdGFiLWJhci10b3AgLmdvb2ctdGFie21hcmdpbjoxcHggNHB4IDAgMDtib3JkZXItYm90dG9tOjA7ZmxvYXQ6bGVmdH0uZ29vZy10YWItYmFyLXRvcDphZnRlciwuZ29vZy10YWItYmFyLWJvdHRvbTphZnRlcntjb250ZW50OiIgIjtkaXNwbGF5OmJsb2NrO2hlaWdodDowO2NsZWFyOmJvdGg7dmlzaWJpbGl0eTpoaWRkZW59Lmdvb2ctdGFiLWJhci1ib3R0b20gLmdvb2ctdGFie21hcmdpbjowIDRweCAxcHggMDtib3JkZXItdG9wOjA7ZmxvYXQ6bGVmdH0uZ29vZy10YWItYmFyLXN0YXJ0IC5nb29nLXRhYnttYXJnaW46MCAwIDRweCAxcHg7Ym9yZGVyLXJpZ2h0OjB9Lmdvb2ctdGFiLWJhci1lbmQgLmdvb2ctdGFie21hcmdpbjowIDFweCA0cHggMDtib3JkZXItbGVmdDowfS5nb29nLXRhYi1ob3ZlcntiYWNrZ3JvdW5kOiNlZWV9Lmdvb2ctdGFiLWRpc2FibGVke2NvbG9yOiM2NjZ9Lmdvb2ctdGFiLXNlbGVjdGVke2NvbG9yOiMwMDA7YmFja2dyb3VuZDojZmZmO3RleHQtZGVjb3JhdGlvbjpub25lO2ZvbnQtd2VpZ2h0OmJvbGQ7Ym9yZGVyOjFweCBzb2xpZCAjNmI5MGRhfS5nb29nLXRhYi1iYXItdG9we3BhZGRpbmctdG9wOjVweCFpbXBvcnRhbnQ7cGFkZGluZy1sZWZ0OjVweCFpbXBvcnRhbnQ7Ym9yZGVyLWJvdHRvbToxcHggc29saWQgIzZiOTBkYSFpbXBvcnRhbnR9Lmdvb2ctdGFiLWJhci10b3AgLmdvb2ctdGFiLXNlbGVjdGVke3RvcDoxcHg7bWFyZ2luLXRvcDowO3BhZGRpbmctYm90dG9tOjVweH0uZ29vZy10YWItYmFyLWJvdHRvbSAuZ29vZy10YWItc2VsZWN0ZWR7dG9wOi0xcHg7bWFyZ2luLWJvdHRvbTowO3BhZGRpbmctdG9wOjVweH0uZ29vZy10YWItYmFyLXN0YXJ0IC5nb29nLXRhYi1zZWxlY3RlZHtsZWZ0OjFweDttYXJnaW4tbGVmdDowO3BhZGRpbmctcmlnaHQ6OXB4fS5nb29nLXRhYi1iYXItZW5kIC5nb29nLXRhYi1zZWxlY3RlZHtsZWZ0Oi0xcHg7bWFyZ2luLXJpZ2h0OjA7cGFkZGluZy1sZWZ0OjlweH0uZ29vZy10YWItYmFye21hcmdpbjowO2JvcmRlcjowO3BhZGRpbmc6MDtsaXN0LXN0eWxlOm5vbmU7Y3Vyc29yOmRlZmF1bHQ7b3V0bGluZTpub25lO2JhY2tncm91bmQ6I2ViZWZmOX0uZ29vZy10YWItYmFyLWNsZWFye2NsZWFyOmJvdGg7aGVpZ2h0OjA7b3ZlcmZsb3c6aGlkZGVufS5nb29nLXRhYi1iYXItc3RhcnR7ZmxvYXQ6bGVmdH0uZ29vZy10YWItYmFyLWVuZHtmbG9hdDpyaWdodH0qIGh0bWwgLmdvb2ctdGFiLWJhci1zdGFydHttYXJnaW4tcmlnaHQ6LTNweH0qIGh0bWwgLmdvb2ctdGFiLWJhci1lbmR7bWFyZ2luLWxlZnQ6LTNweH1zZW50aW5lbHt9",
              "ok": true,
              "headers": [
                [
                  "content-length",
                  "1404"
                ],
                [
                  "content-type",
                  "text/css"
                ]
              ],
              "status": 200,
              "status_text": ""
            },
            "http://localhost:8080/nbextensions/google.colab/tabbar_main.min.js": {
              "data": "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",
              "ok": true,
              "headers": [
                [
                  "content-length",
                  "41785"
                ],
                [
                  "content-type",
                  "application/javascript"
                ]
              ],
              "status": 200,
              "status_text": ""
            }
          },
          "base_uri": "https://localhost:8080/",
          "height": 644
        },
        "id": "H0QD8bGVAk3c",
        "outputId": "e48e7848-a920-4660-f0fd-a40e3e0fd98a"
      },
      "execution_count": 8,
      "outputs": [
        {
          "output_type": "stream",
          "name": "stdout",
          "text": [
            "Different orientations for tabs\n"
          ]
        },
        {
          "output_type": "display_data",
          "data": {
            "text/plain": [
              "<IPython.core.display.HTML object>"
            ],
            "text/html": [
              "<style>\n",
              "       table#id2, #id2 > tbody > tr > th, #id2 > tbody > tr > td {\n",
              "         border: 1px solid lightgray;\n",
              "         border-collapse:collapse;\n",
              "         \n",
              "        }</style>"
            ]
          },
          "metadata": {}
        },
        {
          "output_type": "display_data",
          "data": {
            "text/plain": [
              "<IPython.core.display.HTML object>"
            ],
            "text/html": [
              "<table id=id2><tr><td id=id2-0-0></td><td id=id2-0-1></td><td id=id2-0-2></td><td id=id2-0-3></td></tr></table>"
            ]
          },
          "metadata": {}
        },
        {
          "output_type": "display_data",
          "data": {
            "text/plain": [
              "<IPython.core.display.Javascript object>"
            ],
            "application/javascript": [
              "window[\"02bf7b5e-c201-11ef-81c6-0242ac1c000c\"] = google.colab.output.getActiveOutputArea();\n",
              "//# sourceURL=js_e14d960ed9"
            ]
          },
          "metadata": {}
        },
        {
          "output_type": "display_data",
          "data": {
            "text/plain": [
              "<IPython.core.display.Javascript object>"
            ],
            "application/javascript": [
              "window[\"02bfd6bc-c201-11ef-81c6-0242ac1c000c\"] = document.querySelector(\"#id2-0-0\");\n",
              "//# sourceURL=js_da38291351"
            ]
          },
          "metadata": {}
        },
        {
          "output_type": "display_data",
          "data": {
            "text/plain": [
              "<IPython.core.display.Javascript object>"
            ],
            "application/javascript": [
              "window[\"02c010d2-c201-11ef-81c6-0242ac1c000c\"] = google.colab.output.setActiveOutputArea(window[\"02bfd6bc-c201-11ef-81c6-0242ac1c000c\"]);\n",
              "//# sourceURL=js_53e32f363b"
            ]
          },
          "metadata": {}
        },
        {
          "output_type": "stream",
          "name": "stdout",
          "text": [
            "---- start ---\n"
          ]
        },
        {
          "output_type": "display_data",
          "data": {
            "text/plain": [
              "<IPython.core.display.HTML object>"
            ],
            "text/html": [
              "<link rel=stylesheet type=text/css href='/nbextensions/google.colab/tabbar.css'></link>"
            ]
          },
          "metadata": {}
        },
        {
          "output_type": "display_data",
          "data": {
            "text/plain": [
              "<IPython.core.display.HTML object>"
            ],
            "text/html": [
              "<script src='/nbextensions/google.colab/tabbar_main.min.js'></script>"
            ]
          },
          "metadata": {}
        },
        {
          "output_type": "display_data",
          "data": {
            "text/plain": [
              "<IPython.core.display.HTML object>"
            ],
            "text/html": [
              "<div id=\"id3\"></div>"
            ]
          },
          "metadata": {}
        },
        {
          "output_type": "display_data",
          "data": {
            "text/plain": [
              "<IPython.core.display.Javascript object>"
            ],
            "application/javascript": [
              "window[\"02c4f02a-c201-11ef-81c6-0242ac1c000c\"] = colab_lib.createTabBar({\"location\": \"start\", \"elementId\": \"id3\", \"tabNames\": [\"a\", \"b\"], \"initialSelection\": 0, \"contentBorder\": [\"0px\"], \"contentHeight\": [\"initial\"], \"borderColor\": [\"#a7a7a7\"]});\n",
              "//# sourceURL=js_0c23c2066e"
            ]
          },
          "metadata": {}
        },
        {
          "output_type": "display_data",
          "data": {
            "text/plain": [
              "<IPython.core.display.Javascript object>"
            ],
            "application/javascript": [
              "window[\"02c5880a-c201-11ef-81c6-0242ac1c000c\"] = window[\"id3\"].setSelectedTabIndex(0);\n",
              "//# sourceURL=js_354a12d351"
            ]
          },
          "metadata": {}
        },
        {
          "output_type": "display_data",
          "data": {
            "text/plain": [
              "<IPython.core.display.Javascript object>"
            ],
            "application/javascript": [
              "window[\"02c87466-c201-11ef-81c6-0242ac1c000c\"] = google.colab.output.getActiveOutputArea();\n",
              "//# sourceURL=js_4d25f4246d"
            ]
          },
          "metadata": {}
        },
        {
          "output_type": "display_data",
          "data": {
            "text/plain": [
              "<IPython.core.display.Javascript object>"
            ],
            "application/javascript": [
              "window[\"02c9da18-c201-11ef-81c6-0242ac1c000c\"] = document.querySelector(\"#id3_content_0\");\n",
              "//# sourceURL=js_7ae2c85164"
            ]
          },
          "metadata": {}
        },
        {
          "output_type": "display_data",
          "data": {
            "text/plain": [
              "<IPython.core.display.Javascript object>"
            ],
            "application/javascript": [
              "window[\"02ca671c-c201-11ef-81c6-0242ac1c000c\"] = google.colab.output.setActiveOutputArea(window[\"02c9da18-c201-11ef-81c6-0242ac1c000c\"]);\n",
              "//# sourceURL=js_431289280e"
            ]
          },
          "metadata": {}
        },
        {
          "output_type": "display_data",
          "data": {
            "text/plain": [
              "<IPython.core.display.Javascript object>"
            ],
            "application/javascript": [
              "window[\"02cb6b3a-c201-11ef-81c6-0242ac1c000c\"] = window[\"id3\"].setSelectedTabIndex(0);\n",
              "//# sourceURL=js_18e5c6de2e"
            ]
          },
          "metadata": {}
        },
        {
          "output_type": "display_data",
          "data": {
            "text/plain": [
              "<IPython.core.display.Javascript object>"
            ],
            "application/javascript": [
              "window[\"02d7e428-c201-11ef-81c6-0242ac1c000c\"] = google.colab.output.setActiveOutputArea(window[\"02c87466-c201-11ef-81c6-0242ac1c000c\"]);\n",
              "//# sourceURL=js_14e565f933"
            ]
          },
          "metadata": {}
        },
        {
          "output_type": "display_data",
          "data": {
            "text/plain": [
              "<IPython.core.display.Javascript object>"
            ],
            "application/javascript": [
              "window[\"02dc119c-c201-11ef-81c6-0242ac1c000c\"] = google.colab.output.getActiveOutputArea();\n",
              "//# sourceURL=js_9be9cb27c3"
            ]
          },
          "metadata": {}
        },
        {
          "output_type": "display_data",
          "data": {
            "text/plain": [
              "<IPython.core.display.Javascript object>"
            ],
            "application/javascript": [
              "window[\"02dd12b8-c201-11ef-81c6-0242ac1c000c\"] = document.querySelector(\"#id3_content_1\");\n",
              "//# sourceURL=js_2050ea46b2"
            ]
          },
          "metadata": {}
        },
        {
          "output_type": "display_data",
          "data": {
            "text/plain": [
              "<IPython.core.display.Javascript object>"
            ],
            "application/javascript": [
              "window[\"02dd68b2-c201-11ef-81c6-0242ac1c000c\"] = google.colab.output.setActiveOutputArea(window[\"02dd12b8-c201-11ef-81c6-0242ac1c000c\"]);\n",
              "//# sourceURL=js_3c609b92af"
            ]
          },
          "metadata": {}
        },
        {
          "output_type": "display_data",
          "data": {
            "text/plain": [
              "<IPython.core.display.Javascript object>"
            ],
            "application/javascript": [
              "window[\"02ddc096-c201-11ef-81c6-0242ac1c000c\"] = window[\"id3\"].setSelectedTabIndex(1);\n",
              "//# sourceURL=js_e4254e5c1f"
            ]
          },
          "metadata": {}
        },
        {
          "output_type": "display_data",
          "data": {
            "text/plain": [
              "<Figure size 300x300 with 1 Axes>"
            ],
            "image/png": "[encoded data removed]"
          },
          "metadata": {}
        },
        {
          "output_type": "display_data",
          "data": {
            "text/plain": [
              "<Figure size 300x300 with 1 Axes>"
            ],
            "image/png": "[encoded data removed]"
          },
          "metadata": {}
        },
        {
          "output_type": "display_data",
          "data": {
            "text/plain": [
              "<IPython.core.display.Javascript object>"
            ],
            "application/javascript": [
              "window[\"03444212-c201-11ef-81c6-0242ac1c000c\"] = google.colab.output.setActiveOutputArea(window[\"02dc119c-c201-11ef-81c6-0242ac1c000c\"]);\n",
              "//# sourceURL=js_1e51bde7ea"
            ]
          },
          "metadata": {}
        },
        {
          "output_type": "display_data",
          "data": {
            "text/plain": [
              "<IPython.core.display.Javascript object>"
            ],
            "application/javascript": [
              "window[\"0345fd6e-c201-11ef-81c6-0242ac1c000c\"] = google.colab.output.setActiveOutputArea(window[\"02bf7b5e-c201-11ef-81c6-0242ac1c000c\"]);\n",
              "//# sourceURL=js_39070360f6"
            ]
          },
          "metadata": {}
        },
        {
          "output_type": "display_data",
          "data": {
            "text/plain": [
              "<IPython.core.display.Javascript object>"
            ],
            "application/javascript": [
              "window[\"03478e9a-c201-11ef-81c6-0242ac1c000c\"] = google.colab.output.getActiveOutputArea();\n",
              "//# sourceURL=js_1704245b2c"
            ]
          },
          "metadata": {}
        },
        {
          "output_type": "display_data",
          "data": {
            "text/plain": [
              "<IPython.core.display.Javascript object>"
            ],
            "application/javascript": [
              "window[\"0347ce00-c201-11ef-81c6-0242ac1c000c\"] = document.querySelector(\"#id2-0-1\");\n",
              "//# sourceURL=js_4df55d8c9c"
            ]
          },
          "metadata": {}
        },
        {
          "output_type": "display_data",
          "data": {
            "text/plain": [
              "<IPython.core.display.Javascript object>"
            ],
            "application/javascript": [
              "window[\"03480b68-c201-11ef-81c6-0242ac1c000c\"] = google.colab.output.setActiveOutputArea(window[\"0347ce00-c201-11ef-81c6-0242ac1c000c\"]);\n",
              "//# sourceURL=js_9aa58c944b"
            ]
          },
          "metadata": {}
        },
        {
          "output_type": "stream",
          "name": "stdout",
          "text": [
            "---- bottom ---\n"
          ]
        },
        {
          "output_type": "display_data",
          "data": {
            "text/plain": [
              "<IPython.core.display.HTML object>"
            ],
            "text/html": [
              "<link rel=stylesheet type=text/css href='/nbextensions/google.colab/tabbar.css'></link>"
            ]
          },
          "metadata": {}
        },
        {
          "output_type": "display_data",
          "data": {
            "text/plain": [
              "<IPython.core.display.HTML object>"
            ],
            "text/html": [
              "<script src='/nbextensions/google.colab/tabbar_main.min.js'></script>"
            ]
          },
          "metadata": {}
        },
        {
          "output_type": "display_data",
          "data": {
            "text/plain": [
              "<IPython.core.display.HTML object>"
            ],
            "text/html": [
              "<div id=\"id4\"></div>"
            ]
          },
          "metadata": {}
        },
        {
          "output_type": "display_data",
          "data": {
            "text/plain": [
              "<IPython.core.display.Javascript object>"
            ],
            "application/javascript": [
              "window[\"03499744-c201-11ef-81c6-0242ac1c000c\"] = colab_lib.createTabBar({\"location\": \"bottom\", \"elementId\": \"id4\", \"tabNames\": [\"a\", \"b\"], \"initialSelection\": 0, \"contentBorder\": [\"0px\"], \"contentHeight\": [\"initial\"], \"borderColor\": [\"#a7a7a7\"]});\n",
              "//# sourceURL=js_d8ddfba53e"
            ]
          },
          "metadata": {}
        },
        {
          "output_type": "display_data",
          "data": {
            "text/plain": [
              "<IPython.core.display.Javascript object>"
            ],
            "application/javascript": [
              "window[\"0349df60-c201-11ef-81c6-0242ac1c000c\"] = window[\"id4\"].setSelectedTabIndex(0);\n",
              "//# sourceURL=js_3cd9817cdb"
            ]
          },
          "metadata": {}
        },
        {
          "output_type": "display_data",
          "data": {
            "text/plain": [
              "<IPython.core.display.Javascript object>"
            ],
            "application/javascript": [
              "window[\"034b0a48-c201-11ef-81c6-0242ac1c000c\"] = google.colab.output.getActiveOutputArea();\n",
              "//# sourceURL=js_e2549adea8"
            ]
          },
          "metadata": {}
        },
        {
          "output_type": "display_data",
          "data": {
            "text/plain": [
              "<IPython.core.display.Javascript object>"
            ],
            "application/javascript": [
              "window[\"034b459e-c201-11ef-81c6-0242ac1c000c\"] = document.querySelector(\"#id4_content_0\");\n",
              "//# sourceURL=js_72fe2993a6"
            ]
          },
          "metadata": {}
        },
        {
          "output_type": "display_data",
          "data": {
            "text/plain": [
              "<IPython.core.display.Javascript object>"
            ],
            "application/javascript": [
              "window[\"034b8338-c201-11ef-81c6-0242ac1c000c\"] = google.colab.output.setActiveOutputArea(window[\"034b459e-c201-11ef-81c6-0242ac1c000c\"]);\n",
              "//# sourceURL=js_241dd4b999"
            ]
          },
          "metadata": {}
        },
        {
          "output_type": "display_data",
          "data": {
            "text/plain": [
              "<IPython.core.display.Javascript object>"
            ],
            "application/javascript": [
              "window[\"034bc2f8-c201-11ef-81c6-0242ac1c000c\"] = window[\"id4\"].setSelectedTabIndex(0);\n",
              "//# sourceURL=js_b2959b8b7f"
            ]
          },
          "metadata": {}
        },
        {
          "output_type": "display_data",
          "data": {
            "text/plain": [
              "<IPython.core.display.Javascript object>"
            ],
            "application/javascript": [
              "window[\"0353a6c6-c201-11ef-81c6-0242ac1c000c\"] = google.colab.output.setActiveOutputArea(window[\"034b0a48-c201-11ef-81c6-0242ac1c000c\"]);\n",
              "//# sourceURL=js_bc5ccf416b"
            ]
          },
          "metadata": {}
        },
        {
          "output_type": "display_data",
          "data": {
            "text/plain": [
              "<IPython.core.display.Javascript object>"
            ],
            "application/javascript": [
              "window[\"035552f0-c201-11ef-81c6-0242ac1c000c\"] = google.colab.output.getActiveOutputArea();\n",
              "//# sourceURL=js_b52631132b"
            ]
          },
          "metadata": {}
        },
        {
          "output_type": "display_data",
          "data": {
            "text/plain": [
              "<IPython.core.display.Javascript object>"
            ],
            "application/javascript": [
              "window[\"03558e8c-c201-11ef-81c6-0242ac1c000c\"] = document.querySelector(\"#id4_content_1\");\n",
              "//# sourceURL=js_0241ef2667"
            ]
          },
          "metadata": {}
        },
        {
          "output_type": "display_data",
          "data": {
            "text/plain": [
              "<IPython.core.display.Javascript object>"
            ],
            "application/javascript": [
              "window[\"0355c92e-c201-11ef-81c6-0242ac1c000c\"] = google.colab.output.setActiveOutputArea(window[\"03558e8c-c201-11ef-81c6-0242ac1c000c\"]);\n",
              "//# sourceURL=js_dce2d55ac8"
            ]
          },
          "metadata": {}
        },
        {
          "output_type": "display_data",
          "data": {
            "text/plain": [
              "<IPython.core.display.Javascript object>"
            ],
            "application/javascript": [
              "window[\"035603e4-c201-11ef-81c6-0242ac1c000c\"] = window[\"id4\"].setSelectedTabIndex(1);\n",
              "//# sourceURL=js_d3d7c12a49"
            ]
          },
          "metadata": {}
        },
        {
          "output_type": "display_data",
          "data": {
            "text/plain": [
              "<Figure size 300x300 with 1 Axes>"
            ],
            "image/png": "[encoded data removed]"
          },
          "metadata": {}
        },
        {
          "output_type": "display_data",
          "data": {
            "text/plain": [
              "<Figure size 300x300 with 1 Axes>"
            ],
            "image/png": "[encoded data removed]"
          },
          "metadata": {}
        },
        {
          "output_type": "display_data",
          "data": {
            "text/plain": [
              "<IPython.core.display.Javascript object>"
            ],
            "application/javascript": [
              "window[\"037fa866-c201-11ef-81c6-0242ac1c000c\"] = google.colab.output.setActiveOutputArea(window[\"035552f0-c201-11ef-81c6-0242ac1c000c\"]);\n",
              "//# sourceURL=js_6149aee785"
            ]
          },
          "metadata": {}
        },
        {
          "output_type": "display_data",
          "data": {
            "text/plain": [
              "<IPython.core.display.Javascript object>"
            ],
            "application/javascript": [
              "window[\"03828360-c201-11ef-81c6-0242ac1c000c\"] = google.colab.output.setActiveOutputArea(window[\"03478e9a-c201-11ef-81c6-0242ac1c000c\"]);\n",
              "//# sourceURL=js_9b98c55ca1"
            ]
          },
          "metadata": {}
        },
        {
          "output_type": "display_data",
          "data": {
            "text/plain": [
              "<IPython.core.display.Javascript object>"
            ],
            "application/javascript": [
              "window[\"0384096a-c201-11ef-81c6-0242ac1c000c\"] = google.colab.output.getActiveOutputArea();\n",
              "//# sourceURL=js_cb6f3c58dc"
            ]
          },
          "metadata": {}
        },
        {
          "output_type": "display_data",
          "data": {
            "text/plain": [
              "<IPython.core.display.Javascript object>"
            ],
            "application/javascript": [
              "window[\"03844db2-c201-11ef-81c6-0242ac1c000c\"] = document.querySelector(\"#id2-0-2\");\n",
              "//# sourceURL=js_b873771beb"
            ]
          },
          "metadata": {}
        },
        {
          "output_type": "display_data",
          "data": {
            "text/plain": [
              "<IPython.core.display.Javascript object>"
            ],
            "application/javascript": [
              "window[\"0384c10c-c201-11ef-81c6-0242ac1c000c\"] = google.colab.output.setActiveOutputArea(window[\"03844db2-c201-11ef-81c6-0242ac1c000c\"]);\n",
              "//# sourceURL=js_6f43b2fdb6"
            ]
          },
          "metadata": {}
        },
        {
          "output_type": "stream",
          "name": "stdout",
          "text": [
            "---- end ---\n"
          ]
        },
        {
          "output_type": "display_data",
          "data": {
            "text/plain": [
              "<IPython.core.display.HTML object>"
            ],
            "text/html": [
              "<link rel=stylesheet type=text/css href='/nbextensions/google.colab/tabbar.css'></link>"
            ]
          },
          "metadata": {}
        },
        {
          "output_type": "display_data",
          "data": {
            "text/plain": [
              "<IPython.core.display.HTML object>"
            ],
            "text/html": [
              "<script src='/nbextensions/google.colab/tabbar_main.min.js'></script>"
            ]
          },
          "metadata": {}
        },
        {
          "output_type": "display_data",
          "data": {
            "text/plain": [
              "<IPython.core.display.HTML object>"
            ],
            "text/html": [
              "<div id=\"id5\"></div>"
            ]
          },
          "metadata": {}
        },
        {
          "output_type": "display_data",
          "data": {
            "text/plain": [
              "<IPython.core.display.Javascript object>"
            ],
            "application/javascript": [
              "window[\"03877ef6-c201-11ef-81c6-0242ac1c000c\"] = colab_lib.createTabBar({\"location\": \"end\", \"elementId\": \"id5\", \"tabNames\": [\"a\", \"b\"], \"initialSelection\": 0, \"contentBorder\": [\"0px\"], \"contentHeight\": [\"initial\"], \"borderColor\": [\"#a7a7a7\"]});\n",
              "//# sourceURL=js_22104f1ba2"
            ]
          },
          "metadata": {}
        },
        {
          "output_type": "display_data",
          "data": {
            "text/plain": [
              "<IPython.core.display.Javascript object>"
            ],
            "application/javascript": [
              "window[\"0387f8cc-c201-11ef-81c6-0242ac1c000c\"] = window[\"id5\"].setSelectedTabIndex(0);\n",
              "//# sourceURL=js_3833584fb0"
            ]
          },
          "metadata": {}
        },
        {
          "output_type": "display_data",
          "data": {
            "text/plain": [
              "<IPython.core.display.Javascript object>"
            ],
            "application/javascript": [
              "window[\"0389ae2e-c201-11ef-81c6-0242ac1c000c\"] = google.colab.output.getActiveOutputArea();\n",
              "//# sourceURL=js_9cb43e2686"
            ]
          },
          "metadata": {}
        },
        {
          "output_type": "display_data",
          "data": {
            "text/plain": [
              "<IPython.core.display.Javascript object>"
            ],
            "application/javascript": [
              "window[\"038a00e0-c201-11ef-81c6-0242ac1c000c\"] = document.querySelector(\"#id5_content_0\");\n",
              "//# sourceURL=js_113adb9644"
            ]
          },
          "metadata": {}
        },
        {
          "output_type": "display_data",
          "data": {
            "text/plain": [
              "<IPython.core.display.Javascript object>"
            ],
            "application/javascript": [
              "window[\"038a5342-c201-11ef-81c6-0242ac1c000c\"] = google.colab.output.setActiveOutputArea(window[\"038a00e0-c201-11ef-81c6-0242ac1c000c\"]);\n",
              "//# sourceURL=js_f85cb45ea9"
            ]
          },
          "metadata": {}
        },
        {
          "output_type": "display_data",
          "data": {
            "text/plain": [
              "<IPython.core.display.Javascript object>"
            ],
            "application/javascript": [
              "window[\"038ab134-c201-11ef-81c6-0242ac1c000c\"] = window[\"id5\"].setSelectedTabIndex(0);\n",
              "//# sourceURL=js_3b3d0f578d"
            ]
          },
          "metadata": {}
        },
        {
          "output_type": "display_data",
          "data": {
            "text/plain": [
              "<IPython.core.display.Javascript object>"
            ],
            "application/javascript": [
              "window[\"038f7a02-c201-11ef-81c6-0242ac1c000c\"] = google.colab.output.setActiveOutputArea(window[\"0389ae2e-c201-11ef-81c6-0242ac1c000c\"]);\n",
              "//# sourceURL=js_65cc496c58"
            ]
          },
          "metadata": {}
        },
        {
          "output_type": "display_data",
          "data": {
            "text/plain": [
              "<IPython.core.display.Javascript object>"
            ],
            "application/javascript": [
              "window[\"0391e666-c201-11ef-81c6-0242ac1c000c\"] = google.colab.output.getActiveOutputArea();\n",
              "//# sourceURL=js_6e9ac9d2b1"
            ]
          },
          "metadata": {}
        },
        {
          "output_type": "display_data",
          "data": {
            "text/plain": [
              "<IPython.core.display.Javascript object>"
            ],
            "application/javascript": [
              "window[\"039230ee-c201-11ef-81c6-0242ac1c000c\"] = document.querySelector(\"#id5_content_1\");\n",
              "//# sourceURL=js_e7412402b4"
            ]
          },
          "metadata": {}
        },
        {
          "output_type": "display_data",
          "data": {
            "text/plain": [
              "<IPython.core.display.Javascript object>"
            ],
            "application/javascript": [
              "window[\"0392813e-c201-11ef-81c6-0242ac1c000c\"] = google.colab.output.setActiveOutputArea(window[\"039230ee-c201-11ef-81c6-0242ac1c000c\"]);\n",
              "//# sourceURL=js_1e132cd867"
            ]
          },
          "metadata": {}
        },
        {
          "output_type": "display_data",
          "data": {
            "text/plain": [
              "<IPython.core.display.Javascript object>"
            ],
            "application/javascript": [
              "window[\"0392d206-c201-11ef-81c6-0242ac1c000c\"] = window[\"id5\"].setSelectedTabIndex(1);\n",
              "//# sourceURL=js_7abb02c90b"
            ]
          },
          "metadata": {}
        },
        {
          "output_type": "display_data",
          "data": {
            "text/plain": [
              "<Figure size 300x300 with 1 Axes>"
            ],
            "image/png": "[encoded data removed]"
          },
          "metadata": {}
        },
        {
          "output_type": "display_data",
          "data": {
            "text/plain": [
              "<Figure size 300x300 with 1 Axes>"
            ],
            "image/png": "[encoded data removed]"
          },
          "metadata": {}
        },
        {
          "output_type": "display_data",
          "data": {
            "text/plain": [
              "<IPython.core.display.Javascript object>"
            ],
            "application/javascript": [
              "window[\"03c884e6-c201-11ef-81c6-0242ac1c000c\"] = google.colab.output.setActiveOutputArea(window[\"0391e666-c201-11ef-81c6-0242ac1c000c\"]);\n",
              "//# sourceURL=js_5931ee52cc"
            ]
          },
          "metadata": {}
        },
        {
          "output_type": "display_data",
          "data": {
            "text/plain": [
              "<IPython.core.display.Javascript object>"
            ],
            "application/javascript": [
              "window[\"03ca960a-c201-11ef-81c6-0242ac1c000c\"] = google.colab.output.setActiveOutputArea(window[\"0384096a-c201-11ef-81c6-0242ac1c000c\"]);\n",
              "//# sourceURL=js_3a65c0f3b9"
            ]
          },
          "metadata": {}
        },
        {
          "output_type": "display_data",
          "data": {
            "text/plain": [
              "<IPython.core.display.Javascript object>"
            ],
            "application/javascript": [
              "window[\"03cc52ec-c201-11ef-81c6-0242ac1c000c\"] = google.colab.output.getActiveOutputArea();\n",
              "//# sourceURL=js_ec9df98d03"
            ]
          },
          "metadata": {}
        },
        {
          "output_type": "display_data",
          "data": {
            "text/plain": [
              "<IPython.core.display.Javascript object>"
            ],
            "application/javascript": [
              "window[\"03cc96ee-c201-11ef-81c6-0242ac1c000c\"] = document.querySelector(\"#id2-0-3\");\n",
              "//# sourceURL=js_5f27f9b752"
            ]
          },
          "metadata": {}
        },
        {
          "output_type": "display_data",
          "data": {
            "text/plain": [
              "<IPython.core.display.Javascript object>"
            ],
            "application/javascript": [
              "window[\"03cd1b1e-c201-11ef-81c6-0242ac1c000c\"] = google.colab.output.setActiveOutputArea(window[\"03cc96ee-c201-11ef-81c6-0242ac1c000c\"]);\n",
              "//# sourceURL=js_90ab0f3e7f"
            ]
          },
          "metadata": {}
        },
        {
          "output_type": "stream",
          "name": "stdout",
          "text": [
            "---- top ---\n"
          ]
        },
        {
          "output_type": "display_data",
          "data": {
            "text/plain": [
              "<IPython.core.display.HTML object>"
            ],
            "text/html": [
              "<link rel=stylesheet type=text/css href='/nbextensions/google.colab/tabbar.css'></link>"
            ]
          },
          "metadata": {}
        },
        {
          "output_type": "display_data",
          "data": {
            "text/plain": [
              "<IPython.core.display.HTML object>"
            ],
            "text/html": [
              "<script src='/nbextensions/google.colab/tabbar_main.min.js'></script>"
            ]
          },
          "metadata": {}
        },
        {
          "output_type": "display_data",
          "data": {
            "text/plain": [
              "<IPython.core.display.HTML object>"
            ],
            "text/html": [
              "<div id=\"id6\"></div>"
            ]
          },
          "metadata": {}
        },
        {
          "output_type": "display_data",
          "data": {
            "text/plain": [
              "<IPython.core.display.Javascript object>"
            ],
            "application/javascript": [
              "window[\"03ceb9d8-c201-11ef-81c6-0242ac1c000c\"] = colab_lib.createTabBar({\"location\": \"top\", \"elementId\": \"id6\", \"tabNames\": [\"a\", \"b\"], \"initialSelection\": 0, \"contentBorder\": [\"0px\"], \"contentHeight\": [\"initial\"], \"borderColor\": [\"#a7a7a7\"]});\n",
              "//# sourceURL=js_9c2a99fb31"
            ]
          },
          "metadata": {}
        },
        {
          "output_type": "display_data",
          "data": {
            "text/plain": [
              "<IPython.core.display.Javascript object>"
            ],
            "application/javascript": [
              "window[\"03cefc9a-c201-11ef-81c6-0242ac1c000c\"] = window[\"id6\"].setSelectedTabIndex(0);\n",
              "//# sourceURL=js_57cf8a054e"
            ]
          },
          "metadata": {}
        },
        {
          "output_type": "display_data",
          "data": {
            "text/plain": [
              "<IPython.core.display.Javascript object>"
            ],
            "application/javascript": [
              "window[\"03d02250-c201-11ef-81c6-0242ac1c000c\"] = google.colab.output.getActiveOutputArea();\n",
              "//# sourceURL=js_fff77401b2"
            ]
          },
          "metadata": {}
        },
        {
          "output_type": "display_data",
          "data": {
            "text/plain": [
              "<IPython.core.display.Javascript object>"
            ],
            "application/javascript": [
              "window[\"03d06468-c201-11ef-81c6-0242ac1c000c\"] = document.querySelector(\"#id6_content_0\");\n",
              "//# sourceURL=js_99c309a35b"
            ]
          },
          "metadata": {}
        },
        {
          "output_type": "display_data",
          "data": {
            "text/plain": [
              "<IPython.core.display.Javascript object>"
            ],
            "application/javascript": [
              "window[\"03d09640-c201-11ef-81c6-0242ac1c000c\"] = google.colab.output.setActiveOutputArea(window[\"03d06468-c201-11ef-81c6-0242ac1c000c\"]);\n",
              "//# sourceURL=js_e2ea9da58b"
            ]
          },
          "metadata": {}
        },
        {
          "output_type": "display_data",
          "data": {
            "text/plain": [
              "<IPython.core.display.Javascript object>"
            ],
            "application/javascript": [
              "window[\"03d0d68c-c201-11ef-81c6-0242ac1c000c\"] = window[\"id6\"].setSelectedTabIndex(0);\n",
              "//# sourceURL=js_1c35979d92"
            ]
          },
          "metadata": {}
        },
        {
          "output_type": "display_data",
          "data": {
            "text/plain": [
              "<IPython.core.display.Javascript object>"
            ],
            "application/javascript": [
              "window[\"03d8d364-c201-11ef-81c6-0242ac1c000c\"] = google.colab.output.setActiveOutputArea(window[\"03d02250-c201-11ef-81c6-0242ac1c000c\"]);\n",
              "//# sourceURL=js_39ab058bd9"
            ]
          },
          "metadata": {}
        },
        {
          "output_type": "display_data",
          "data": {
            "text/plain": [
              "<IPython.core.display.Javascript object>"
            ],
            "application/javascript": [
              "window[\"03dadd44-c201-11ef-81c6-0242ac1c000c\"] = google.colab.output.getActiveOutputArea();\n",
              "//# sourceURL=js_0fa813c933"
            ]
          },
          "metadata": {}
        },
        {
          "output_type": "display_data",
          "data": {
            "text/plain": [
              "<IPython.core.display.Javascript object>"
            ],
            "application/javascript": [
              "window[\"03db1412-c201-11ef-81c6-0242ac1c000c\"] = document.querySelector(\"#id6_content_1\");\n",
              "//# sourceURL=js_368942ce97"
            ]
          },
          "metadata": {}
        },
        {
          "output_type": "display_data",
          "data": {
            "text/plain": [
              "<IPython.core.display.Javascript object>"
            ],
            "application/javascript": [
              "window[\"03db493c-c201-11ef-81c6-0242ac1c000c\"] = google.colab.output.setActiveOutputArea(window[\"03db1412-c201-11ef-81c6-0242ac1c000c\"]);\n",
              "//# sourceURL=js_6cea7d5caf"
            ]
          },
          "metadata": {}
        },
        {
          "output_type": "display_data",
          "data": {
            "text/plain": [
              "<IPython.core.display.Javascript object>"
            ],
            "application/javascript": [
              "window[\"03db7fc4-c201-11ef-81c6-0242ac1c000c\"] = window[\"id6\"].setSelectedTabIndex(1);\n",
              "//# sourceURL=js_a2136b7dc4"
            ]
          },
          "metadata": {}
        },
        {
          "output_type": "display_data",
          "data": {
            "text/plain": [
              "<Figure size 300x300 with 1 Axes>"
            ],
            "image/png": "[encoded data removed]"
          },
          "metadata": {}
        },
        {
          "output_type": "display_data",
          "data": {
            "text/plain": [
              "<Figure size 300x300 with 1 Axes>"
            ],
            "image/png": "[encoded data removed]"
          },
          "metadata": {}
        },
        {
          "output_type": "display_data",
          "data": {
            "text/plain": [
              "<IPython.core.display.Javascript object>"
            ],
            "application/javascript": [
              "window[\"040fa89e-c201-11ef-81c6-0242ac1c000c\"] = google.colab.output.setActiveOutputArea(window[\"03dadd44-c201-11ef-81c6-0242ac1c000c\"]);\n",
              "//# sourceURL=js_e6d1c2c05c"
            ]
          },
          "metadata": {}
        },
        {
          "output_type": "display_data",
          "data": {
            "text/plain": [
              "<IPython.core.display.Javascript object>"
            ],
            "application/javascript": [
              "window[\"04123d70-c201-11ef-81c6-0242ac1c000c\"] = google.colab.output.setActiveOutputArea(window[\"03cc52ec-c201-11ef-81c6-0242ac1c000c\"]);\n",
              "//# sourceURL=js_5ac6ebed35"
            ]
          },
          "metadata": {}
        }
      ]
    },
    {
      "cell_type": "code",
      "source": [
        "#@title String fields\n",
        "\n",
        "text = 'value' #@param {type:\"string\"}\n",
        "dropdown = '1st option' #@param [\"1st option\", \"2nd option\", \"3rd option\"]\n",
        "text_and_dropdown = '2nd option' #@param [\"1st option\", \"2nd option\", \"3rd option\"] {allow-input: true}\n",
        "\n",
        "print(text)\n",
        "print(dropdown)\n",
        "print(text_and_dropdown)\n"
      ],
      "metadata": {
        "id": "FM43ka7VAmAT"
      },
      "execution_count": null,
      "outputs": []
    }
  ]
}